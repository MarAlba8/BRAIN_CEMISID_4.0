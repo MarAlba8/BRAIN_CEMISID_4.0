{
 "cells": [
  {
   "cell_type": "markdown",
   "metadata": {},
   "source": [
    "# Prueba de Integración modulos A, B y C"
   ]
  },
  {
   "cell_type": "markdown",
   "metadata": {},
   "source": [
    "Comportamiento deseado por parte de la integración\n",
    "\n",
    "1. Recibir eventos por las redes neuronales sensoriales en formato de caracteres \"patron:evento\" y emitir una salida para los modulos B y C\n",
    "2. El modulo B debe recibir los valores de BCE correspondiente a los sentidos por parte de las redes neuronales del modulo A\n",
    "3. El modulo C debe recibir los valores de numero de neurona, patron, evento y sentido por parte de las redes neuronales del modulo A"
   ]
  },
  {
   "cell_type": "markdown",
   "metadata": {},
   "source": [
    "### Importación de modulos"
   ]
  },
  {
   "cell_type": "code",
   "execution_count": 1,
   "metadata": {},
   "outputs": [],
   "source": [
    "# Modulo A\n",
    "from michael_agent.intelligent_agent import Intelligent_agent\n",
    "from michael_agent.sensory_system import Sensory_system\n",
    "# Modulo B\n",
    "from phi_agent.mind.mind import Mind\n",
    "# Modulo C\n",
    "from memory.history import History\n",
    "\n",
    "from michael_agent.generator import Generator\n",
    "from phi_agent.utils.utils import bce_agent_to_mind_translator, get_temporal_memory\n",
    "import time\n",
    "from rich import print\n",
    "# Escala de degrees\n",
    "LEN_DEGREE = 4"
   ]
  },
  {
   "cell_type": "code",
   "execution_count": 2,
   "metadata": {},
   "outputs": [],
   "source": [
    "# Instancias de las clases\n",
    "sensory_system = Sensory_system()\n",
    "intelligent_agent = Intelligent_agent()\n",
    "memory = History()\n",
    "event_generator = Generator()\n",
    "\n",
    "\n",
    "# Patrones para inicializar\n",
    "patterns = event_generator.gen_patterns()\n",
    "init_memories = event_generator.gen_init_events()\n",
    "arr_events=list(init_memories.values())\n",
    "\n",
    "\n",
    "\n",
    "# Inicializar los patrones en el sensory_system y memoria\n",
    "init_patterns = sensory_system.init_patterns(patterns)\n",
    "memory.init_history(sensory_system.to_memory())\n",
    "\n",
    "\n",
    "#Iniciar eventos en sensory_system y memoria\n",
    "init_events=sensory_system.init_event(arr_events)\n",
    "memory.init_history_events(init_events)"
   ]
  },
  {
   "cell_type": "code",
   "execution_count": 5,
   "metadata": {},
   "outputs": [
    {
     "data": {
      "text/html": [
       "<pre style=\"white-space:pre;overflow-x:auto;line-height:normal;font-family:Menlo,'DejaVu Sans Mono',consolas,'Courier New',monospace\">starting consciousness\n",
       "</pre>\n"
      ],
      "text/plain": [
       "starting consciousness\n"
      ]
     },
     "metadata": {},
     "output_type": "display_data"
    },
    {
     "data": {
      "text/html": [
       "<pre style=\"white-space:pre;overflow-x:auto;line-height:normal;font-family:Menlo,'DejaVu Sans Mono',consolas,'Courier New',monospace\">phi windows\n",
       "</pre>\n"
      ],
      "text/plain": [
       "phi windows\n"
      ]
     },
     "metadata": {},
     "output_type": "display_data"
    },
    {
     "data": {
      "text/html": [
       "<pre style=\"white-space:pre;overflow-x:auto;line-height:normal;font-family:Menlo,'DejaVu Sans Mono',consolas,'Courier New',monospace\">\n",
       "</pre>\n"
      ],
      "text/plain": [
       "\n"
      ]
     },
     "metadata": {},
     "output_type": "display_data"
    },
    {
     "data": {
      "text/html": [
       "<pre style=\"white-space:pre;overflow-x:auto;line-height:normal;font-family:Menlo,'DejaVu Sans Mono',consolas,'Courier New',monospace\">                <span style=\"color: #808000; text-decoration-color: #808000\">Estado Agente Inteligente:              </span> Bio:+<span style=\"color: #008080; text-decoration-color: #008080; font-weight: bold\">0.0</span> Cul:+<span style=\"color: #008080; text-decoration-color: #008080; font-weight: bold\">0.0</span> Emo:+<span style=\"color: #008080; text-decoration-color: #008080; font-weight: bold\">0.0</span>\n",
       "</pre>\n"
      ],
      "text/plain": [
       "                \u001b[33mEstado Agente Inteligente:      \u001b[0m\u001b[33m        \u001b[0m Bio:+\u001b[1;36m0.0\u001b[0m Cul:+\u001b[1;36m0.0\u001b[0m Emo:+\u001b[1;36m0.0\u001b[0m\n"
      ]
     },
     "metadata": {},
     "output_type": "display_data"
    },
    {
     "data": {
      "text/html": [
       "<pre style=\"white-space:pre;overflow-x:auto;line-height:normal;font-family:Menlo,'DejaVu Sans Mono',consolas,'Courier New',monospace\"><span style=\"font-weight: bold\">{</span><span style=\"color: #008000; text-decoration-color: #008000\">'biological'</span>: <span style=\"color: #800080; text-decoration-color: #800080; font-style: italic\">None</span>, <span style=\"color: #008000; text-decoration-color: #008000\">'cultural'</span>: <span style=\"color: #800080; text-decoration-color: #800080; font-style: italic\">None</span>, <span style=\"color: #008000; text-decoration-color: #008000\">'emotional'</span>: <span style=\"color: #800080; text-decoration-color: #800080; font-style: italic\">None</span><span style=\"font-weight: bold\">}</span>\n",
       "</pre>\n"
      ],
      "text/plain": [
       "\u001b[1m{\u001b[0m\u001b[32m'biological'\u001b[0m: \u001b[3;35mNone\u001b[0m, \u001b[32m'cultural'\u001b[0m: \u001b[3;35mNone\u001b[0m, \u001b[32m'emotional'\u001b[0m: \u001b[3;35mNone\u001b[0m\u001b[1m}\u001b[0m\n"
      ]
     },
     "metadata": {},
     "output_type": "display_data"
    },
    {
     "data": {
      "text/html": [
       "<pre style=\"white-space:pre;overflow-x:auto;line-height:normal;font-family:Menlo,'DejaVu Sans Mono',consolas,'Courier New',monospace\">Información de los eventos sensoriales:\n",
       "<span style=\"font-weight: bold\">[</span>\n",
       "    <span style=\"font-weight: bold\">[</span>Bio:<span style=\"color: #008080; text-decoration-color: #008080; font-weight: bold\">-0.5</span> Cul:<span style=\"color: #008080; text-decoration-color: #008080; font-weight: bold\">-0.25</span> Emo:<span style=\"color: #008080; text-decoration-color: #008080; font-weight: bold\">-0.25</span>, <span style=\"color: #008000; text-decoration-color: #008000\">'sight'</span><span style=\"font-weight: bold\">]</span>,\n",
       "    <span style=\"font-weight: bold\">[</span>Bio:+<span style=\"color: #008080; text-decoration-color: #008080; font-weight: bold\">0.75</span> Cul:+<span style=\"color: #008080; text-decoration-color: #008080; font-weight: bold\">0.75</span> Emo:<span style=\"color: #008080; text-decoration-color: #008080; font-weight: bold\">-0.0</span>, <span style=\"color: #008000; text-decoration-color: #008000\">'hearing'</span><span style=\"font-weight: bold\">]</span>,\n",
       "    <span style=\"font-weight: bold\">[</span>Bio:<span style=\"color: #008080; text-decoration-color: #008080; font-weight: bold\">-0.5</span> Cul:<span style=\"color: #008080; text-decoration-color: #008080; font-weight: bold\">-0.5</span> Emo:<span style=\"color: #008080; text-decoration-color: #008080; font-weight: bold\">-0.25</span>, <span style=\"color: #008000; text-decoration-color: #008000\">'smell'</span><span style=\"font-weight: bold\">]</span>,\n",
       "    <span style=\"font-weight: bold\">[</span>Bio:+<span style=\"color: #008080; text-decoration-color: #008080; font-weight: bold\">0.5</span> Cul:+<span style=\"color: #008080; text-decoration-color: #008080; font-weight: bold\">0.0</span> Emo:<span style=\"color: #008080; text-decoration-color: #008080; font-weight: bold\">-0.25</span>, <span style=\"color: #008000; text-decoration-color: #008000\">'taste'</span><span style=\"font-weight: bold\">]</span>,\n",
       "    <span style=\"font-weight: bold\">[</span>Bio:+<span style=\"color: #008080; text-decoration-color: #008080; font-weight: bold\">0.0</span> Cul:<span style=\"color: #008080; text-decoration-color: #008080; font-weight: bold\">-0.25</span> Emo:<span style=\"color: #008080; text-decoration-color: #008080; font-weight: bold\">-0.75</span>, <span style=\"color: #008000; text-decoration-color: #008000\">'touch'</span><span style=\"font-weight: bold\">]</span>,\n",
       "    <span style=\"font-weight: bold\">[</span>Bio:+<span style=\"color: #008080; text-decoration-color: #008080; font-weight: bold\">0.25</span> Cul:+<span style=\"color: #008080; text-decoration-color: #008080; font-weight: bold\">0.75</span> Emo:<span style=\"color: #008080; text-decoration-color: #008080; font-weight: bold\">-0.5</span>, <span style=\"color: #008000; text-decoration-color: #008000\">'body'</span><span style=\"font-weight: bold\">]</span>,\n",
       "    <span style=\"font-weight: bold\">[</span>Bio:<span style=\"color: #008080; text-decoration-color: #008080; font-weight: bold\">-0.25</span> Cul:<span style=\"color: #008080; text-decoration-color: #008080; font-weight: bold\">-0.5</span> Emo:+<span style=\"color: #008080; text-decoration-color: #008080; font-weight: bold\">0.5</span>, <span style=\"color: #008000; text-decoration-color: #008000\">'time'</span><span style=\"font-weight: bold\">]</span>\n",
       "<span style=\"font-weight: bold\">]</span>\n",
       "</pre>\n"
      ],
      "text/plain": [
       "Información de los eventos sensoriales:\n",
       "\u001b[1m[\u001b[0m\n",
       "    \u001b[1m[\u001b[0mBio:\u001b[1;36m-0.5\u001b[0m Cul:\u001b[1;36m-0.25\u001b[0m Emo:\u001b[1;36m-0.25\u001b[0m, \u001b[32m'sight'\u001b[0m\u001b[1m]\u001b[0m,\n",
       "    \u001b[1m[\u001b[0mBio:+\u001b[1;36m0.75\u001b[0m Cul:+\u001b[1;36m0.75\u001b[0m Emo:\u001b[1;36m-0.0\u001b[0m, \u001b[32m'hearing'\u001b[0m\u001b[1m]\u001b[0m,\n",
       "    \u001b[1m[\u001b[0mBio:\u001b[1;36m-0.5\u001b[0m Cul:\u001b[1;36m-0.5\u001b[0m Emo:\u001b[1;36m-0.25\u001b[0m, \u001b[32m'smell'\u001b[0m\u001b[1m]\u001b[0m,\n",
       "    \u001b[1m[\u001b[0mBio:+\u001b[1;36m0.5\u001b[0m Cul:+\u001b[1;36m0.0\u001b[0m Emo:\u001b[1;36m-0.25\u001b[0m, \u001b[32m'taste'\u001b[0m\u001b[1m]\u001b[0m,\n",
       "    \u001b[1m[\u001b[0mBio:+\u001b[1;36m0.0\u001b[0m Cul:\u001b[1;36m-0.25\u001b[0m Emo:\u001b[1;36m-0.75\u001b[0m, \u001b[32m'touch'\u001b[0m\u001b[1m]\u001b[0m,\n",
       "    \u001b[1m[\u001b[0mBio:+\u001b[1;36m0.25\u001b[0m Cul:+\u001b[1;36m0.75\u001b[0m Emo:\u001b[1;36m-0.5\u001b[0m, \u001b[32m'body'\u001b[0m\u001b[1m]\u001b[0m,\n",
       "    \u001b[1m[\u001b[0mBio:\u001b[1;36m-0.25\u001b[0m Cul:\u001b[1;36m-0.5\u001b[0m Emo:+\u001b[1;36m0.5\u001b[0m, \u001b[32m'time'\u001b[0m\u001b[1m]\u001b[0m\n",
       "\u001b[1m]\u001b[0m\n"
      ]
     },
     "metadata": {},
     "output_type": "display_data"
    },
    {
     "data": {
      "text/html": [
       "<pre style=\"white-space:pre;overflow-x:auto;line-height:normal;font-family:Menlo,'DejaVu Sans Mono',consolas,'Courier New',monospace\">BCE Ganadores:\n",
       "<span style=\"font-weight: bold\">{</span>\n",
       "    <span style=\"color: #008000; text-decoration-color: #008000\">'hearing'</span>: <span style=\"font-weight: bold\">{</span><span style=\"color: #008000; text-decoration-color: #008000\">'biological'</span>: +<span style=\"color: #008080; text-decoration-color: #008080; font-weight: bold\">0.75</span>, <span style=\"color: #008000; text-decoration-color: #008000\">'cultural'</span>: +<span style=\"color: #008080; text-decoration-color: #008080; font-weight: bold\">0.75</span>, <span style=\"color: #008000; text-decoration-color: #008000\">'emotional'</span>: +<span style=\"color: #008080; text-decoration-color: #008080; font-weight: bold\">0.0</span><span style=\"font-weight: bold\">}</span>,\n",
       "    <span style=\"color: #008000; text-decoration-color: #008000\">'touch'</span>: <span style=\"font-weight: bold\">{</span><span style=\"color: #008000; text-decoration-color: #008000\">'biological'</span>: +<span style=\"color: #008080; text-decoration-color: #008080; font-weight: bold\">0.0</span>, <span style=\"color: #008000; text-decoration-color: #008000\">'cultural'</span>: <span style=\"color: #008080; text-decoration-color: #008080; font-weight: bold\">-0.25</span>, <span style=\"color: #008000; text-decoration-color: #008000\">'emotional'</span>: <span style=\"color: #008080; text-decoration-color: #008080; font-weight: bold\">-0.75</span><span style=\"font-weight: bold\">}</span>,\n",
       "    <span style=\"color: #008000; text-decoration-color: #008000\">'sight'</span>: <span style=\"font-weight: bold\">{</span><span style=\"color: #008000; text-decoration-color: #008000\">'biological'</span>: <span style=\"color: #008080; text-decoration-color: #008080; font-weight: bold\">-0.5</span>, <span style=\"color: #008000; text-decoration-color: #008000\">'cultural'</span>: <span style=\"color: #008080; text-decoration-color: #008080; font-weight: bold\">-0.25</span>, <span style=\"color: #008000; text-decoration-color: #008000\">'emotional'</span>: <span style=\"color: #008080; text-decoration-color: #008080; font-weight: bold\">-0.25</span><span style=\"font-weight: bold\">}</span>,\n",
       "    <span style=\"color: #008000; text-decoration-color: #008000\">'smell'</span>: <span style=\"font-weight: bold\">{</span><span style=\"color: #008000; text-decoration-color: #008000\">'biological'</span>: <span style=\"color: #008080; text-decoration-color: #008080; font-weight: bold\">-0.5</span>, <span style=\"color: #008000; text-decoration-color: #008000\">'cultural'</span>: <span style=\"color: #008080; text-decoration-color: #008080; font-weight: bold\">-0.5</span>, <span style=\"color: #008000; text-decoration-color: #008000\">'emotional'</span>: <span style=\"color: #008080; text-decoration-color: #008080; font-weight: bold\">-0.25</span><span style=\"font-weight: bold\">}</span>,\n",
       "    <span style=\"color: #008000; text-decoration-color: #008000\">'taste'</span>: <span style=\"font-weight: bold\">{</span><span style=\"color: #008000; text-decoration-color: #008000\">'biological'</span>: +<span style=\"color: #008080; text-decoration-color: #008080; font-weight: bold\">0.5</span>, <span style=\"color: #008000; text-decoration-color: #008000\">'cultural'</span>: +<span style=\"color: #008080; text-decoration-color: #008080; font-weight: bold\">0.0</span>, <span style=\"color: #008000; text-decoration-color: #008000\">'emotional'</span>: <span style=\"color: #008080; text-decoration-color: #008080; font-weight: bold\">-0.25</span><span style=\"font-weight: bold\">}</span>,\n",
       "    <span style=\"color: #008000; text-decoration-color: #008000\">'body'</span>: <span style=\"font-weight: bold\">{</span><span style=\"color: #008000; text-decoration-color: #008000\">'biological'</span>: +<span style=\"color: #008080; text-decoration-color: #008080; font-weight: bold\">0.25</span>, <span style=\"color: #008000; text-decoration-color: #008000\">'cultural'</span>: +<span style=\"color: #008080; text-decoration-color: #008080; font-weight: bold\">0.75</span>, <span style=\"color: #008000; text-decoration-color: #008000\">'emotional'</span>: <span style=\"color: #008080; text-decoration-color: #008080; font-weight: bold\">-0.5</span><span style=\"font-weight: bold\">}</span>,\n",
       "    <span style=\"color: #008000; text-decoration-color: #008000\">'time'</span>: <span style=\"font-weight: bold\">{</span><span style=\"color: #008000; text-decoration-color: #008000\">'biological'</span>: <span style=\"color: #008080; text-decoration-color: #008080; font-weight: bold\">-0.25</span>, <span style=\"color: #008000; text-decoration-color: #008000\">'cultural'</span>: <span style=\"color: #008080; text-decoration-color: #008080; font-weight: bold\">-0.5</span>, <span style=\"color: #008000; text-decoration-color: #008000\">'emotional'</span>: +<span style=\"color: #008080; text-decoration-color: #008080; font-weight: bold\">0.5</span><span style=\"font-weight: bold\">}</span>\n",
       "<span style=\"font-weight: bold\">}</span>\n",
       "<span style=\"font-weight: bold\">{</span>\n",
       "    <span style=\"color: #008000; text-decoration-color: #008000\">'hearing'</span>: <span style=\"font-weight: bold\">{</span><span style=\"color: #008000; text-decoration-color: #008000\">'biological'</span>: <span style=\"color: #008000; text-decoration-color: #008000\">'RN'</span>, <span style=\"color: #008000; text-decoration-color: #008000\">'cultural'</span>: <span style=\"color: #008000; text-decoration-color: #008000\">'RN'</span>, <span style=\"color: #008000; text-decoration-color: #008000\">'emotional'</span>: <span style=\"color: #008000; text-decoration-color: #008000\">'AI'</span><span style=\"font-weight: bold\">}</span>,\n",
       "    <span style=\"color: #008000; text-decoration-color: #008000\">'touch'</span>: <span style=\"font-weight: bold\">{</span><span style=\"color: #008000; text-decoration-color: #008000\">'biological'</span>: <span style=\"color: #008000; text-decoration-color: #008000\">'AI'</span>, <span style=\"color: #008000; text-decoration-color: #008000\">'cultural'</span>: <span style=\"color: #008000; text-decoration-color: #008000\">'RN'</span>, <span style=\"color: #008000; text-decoration-color: #008000\">'emotional'</span>: <span style=\"color: #008000; text-decoration-color: #008000\">'RN'</span><span style=\"font-weight: bold\">}</span>,\n",
       "    <span style=\"color: #008000; text-decoration-color: #008000\">'sight'</span>: <span style=\"font-weight: bold\">{</span><span style=\"color: #008000; text-decoration-color: #008000\">'biological'</span>: <span style=\"color: #008000; text-decoration-color: #008000\">'RN'</span>, <span style=\"color: #008000; text-decoration-color: #008000\">'cultural'</span>: <span style=\"color: #008000; text-decoration-color: #008000\">'RN'</span>, <span style=\"color: #008000; text-decoration-color: #008000\">'emotional'</span>: <span style=\"color: #008000; text-decoration-color: #008000\">'RN'</span><span style=\"font-weight: bold\">}</span>,\n",
       "    <span style=\"color: #008000; text-decoration-color: #008000\">'smell'</span>: <span style=\"font-weight: bold\">{</span><span style=\"color: #008000; text-decoration-color: #008000\">'biological'</span>: <span style=\"color: #008000; text-decoration-color: #008000\">'RN'</span>, <span style=\"color: #008000; text-decoration-color: #008000\">'cultural'</span>: <span style=\"color: #008000; text-decoration-color: #008000\">'RN'</span>, <span style=\"color: #008000; text-decoration-color: #008000\">'emotional'</span>: <span style=\"color: #008000; text-decoration-color: #008000\">'RN'</span><span style=\"font-weight: bold\">}</span>,\n",
       "    <span style=\"color: #008000; text-decoration-color: #008000\">'taste'</span>: <span style=\"font-weight: bold\">{</span><span style=\"color: #008000; text-decoration-color: #008000\">'biological'</span>: <span style=\"color: #008000; text-decoration-color: #008000\">'RN'</span>, <span style=\"color: #008000; text-decoration-color: #008000\">'cultural'</span>: <span style=\"color: #008000; text-decoration-color: #008000\">'AI'</span>, <span style=\"color: #008000; text-decoration-color: #008000\">'emotional'</span>: <span style=\"color: #008000; text-decoration-color: #008000\">'RN'</span><span style=\"font-weight: bold\">}</span>,\n",
       "    <span style=\"color: #008000; text-decoration-color: #008000\">'body'</span>: <span style=\"font-weight: bold\">{</span><span style=\"color: #008000; text-decoration-color: #008000\">'biological'</span>: <span style=\"color: #008000; text-decoration-color: #008000\">'RN'</span>, <span style=\"color: #008000; text-decoration-color: #008000\">'cultural'</span>: <span style=\"color: #008000; text-decoration-color: #008000\">'RN'</span>, <span style=\"color: #008000; text-decoration-color: #008000\">'emotional'</span>: <span style=\"color: #008000; text-decoration-color: #008000\">'RN'</span><span style=\"font-weight: bold\">}</span>,\n",
       "    <span style=\"color: #008000; text-decoration-color: #008000\">'time'</span>: <span style=\"font-weight: bold\">{</span><span style=\"color: #008000; text-decoration-color: #008000\">'biological'</span>: <span style=\"color: #008000; text-decoration-color: #008000\">'RN'</span>, <span style=\"color: #008000; text-decoration-color: #008000\">'cultural'</span>: <span style=\"color: #008000; text-decoration-color: #008000\">'RN'</span>, <span style=\"color: #008000; text-decoration-color: #008000\">'emotional'</span>: <span style=\"color: #008000; text-decoration-color: #008000\">'RN'</span><span style=\"font-weight: bold\">}</span>\n",
       "<span style=\"font-weight: bold\">}</span>\n",
       "</pre>\n"
      ],
      "text/plain": [
       "BCE Ganadores:\n",
       "\u001b[1m{\u001b[0m\n",
       "    \u001b[32m'hearing'\u001b[0m: \u001b[1m{\u001b[0m\u001b[32m'biological'\u001b[0m: +\u001b[1;36m0.75\u001b[0m, \u001b[32m'cultural'\u001b[0m: +\u001b[1;36m0.75\u001b[0m, \u001b[32m'emotional'\u001b[0m: +\u001b[1;36m0.0\u001b[0m\u001b[1m}\u001b[0m,\n",
       "    \u001b[32m'touch'\u001b[0m: \u001b[1m{\u001b[0m\u001b[32m'biological'\u001b[0m: +\u001b[1;36m0.0\u001b[0m, \u001b[32m'cultural'\u001b[0m: \u001b[1;36m-0.25\u001b[0m, \u001b[32m'emotional'\u001b[0m: \u001b[1;36m-0.75\u001b[0m\u001b[1m}\u001b[0m,\n",
       "    \u001b[32m'sight'\u001b[0m: \u001b[1m{\u001b[0m\u001b[32m'biological'\u001b[0m: \u001b[1;36m-0.5\u001b[0m, \u001b[32m'cultural'\u001b[0m: \u001b[1;36m-0.25\u001b[0m, \u001b[32m'emotional'\u001b[0m: \u001b[1;36m-0.25\u001b[0m\u001b[1m}\u001b[0m,\n",
       "    \u001b[32m'smell'\u001b[0m: \u001b[1m{\u001b[0m\u001b[32m'biological'\u001b[0m: \u001b[1;36m-0.5\u001b[0m, \u001b[32m'cultural'\u001b[0m: \u001b[1;36m-0.5\u001b[0m, \u001b[32m'emotional'\u001b[0m: \u001b[1;36m-0.25\u001b[0m\u001b[1m}\u001b[0m,\n",
       "    \u001b[32m'taste'\u001b[0m: \u001b[1m{\u001b[0m\u001b[32m'biological'\u001b[0m: +\u001b[1;36m0.5\u001b[0m, \u001b[32m'cultural'\u001b[0m: +\u001b[1;36m0.0\u001b[0m, \u001b[32m'emotional'\u001b[0m: \u001b[1;36m-0.25\u001b[0m\u001b[1m}\u001b[0m,\n",
       "    \u001b[32m'body'\u001b[0m: \u001b[1m{\u001b[0m\u001b[32m'biological'\u001b[0m: +\u001b[1;36m0.25\u001b[0m, \u001b[32m'cultural'\u001b[0m: +\u001b[1;36m0.75\u001b[0m, \u001b[32m'emotional'\u001b[0m: \u001b[1;36m-0.5\u001b[0m\u001b[1m}\u001b[0m,\n",
       "    \u001b[32m'time'\u001b[0m: \u001b[1m{\u001b[0m\u001b[32m'biological'\u001b[0m: \u001b[1;36m-0.25\u001b[0m, \u001b[32m'cultural'\u001b[0m: \u001b[1;36m-0.5\u001b[0m, \u001b[32m'emotional'\u001b[0m: +\u001b[1;36m0.5\u001b[0m\u001b[1m}\u001b[0m\n",
       "\u001b[1m}\u001b[0m\n",
       "\u001b[1m{\u001b[0m\n",
       "    \u001b[32m'hearing'\u001b[0m: \u001b[1m{\u001b[0m\u001b[32m'biological'\u001b[0m: \u001b[32m'RN'\u001b[0m, \u001b[32m'cultural'\u001b[0m: \u001b[32m'RN'\u001b[0m, \u001b[32m'emotional'\u001b[0m: \u001b[32m'AI'\u001b[0m\u001b[1m}\u001b[0m,\n",
       "    \u001b[32m'touch'\u001b[0m: \u001b[1m{\u001b[0m\u001b[32m'biological'\u001b[0m: \u001b[32m'AI'\u001b[0m, \u001b[32m'cultural'\u001b[0m: \u001b[32m'RN'\u001b[0m, \u001b[32m'emotional'\u001b[0m: \u001b[32m'RN'\u001b[0m\u001b[1m}\u001b[0m,\n",
       "    \u001b[32m'sight'\u001b[0m: \u001b[1m{\u001b[0m\u001b[32m'biological'\u001b[0m: \u001b[32m'RN'\u001b[0m, \u001b[32m'cultural'\u001b[0m: \u001b[32m'RN'\u001b[0m, \u001b[32m'emotional'\u001b[0m: \u001b[32m'RN'\u001b[0m\u001b[1m}\u001b[0m,\n",
       "    \u001b[32m'smell'\u001b[0m: \u001b[1m{\u001b[0m\u001b[32m'biological'\u001b[0m: \u001b[32m'RN'\u001b[0m, \u001b[32m'cultural'\u001b[0m: \u001b[32m'RN'\u001b[0m, \u001b[32m'emotional'\u001b[0m: \u001b[32m'RN'\u001b[0m\u001b[1m}\u001b[0m,\n",
       "    \u001b[32m'taste'\u001b[0m: \u001b[1m{\u001b[0m\u001b[32m'biological'\u001b[0m: \u001b[32m'RN'\u001b[0m, \u001b[32m'cultural'\u001b[0m: \u001b[32m'AI'\u001b[0m, \u001b[32m'emotional'\u001b[0m: \u001b[32m'RN'\u001b[0m\u001b[1m}\u001b[0m,\n",
       "    \u001b[32m'body'\u001b[0m: \u001b[1m{\u001b[0m\u001b[32m'biological'\u001b[0m: \u001b[32m'RN'\u001b[0m, \u001b[32m'cultural'\u001b[0m: \u001b[32m'RN'\u001b[0m, \u001b[32m'emotional'\u001b[0m: \u001b[32m'RN'\u001b[0m\u001b[1m}\u001b[0m,\n",
       "    \u001b[32m'time'\u001b[0m: \u001b[1m{\u001b[0m\u001b[32m'biological'\u001b[0m: \u001b[32m'RN'\u001b[0m, \u001b[32m'cultural'\u001b[0m: \u001b[32m'RN'\u001b[0m, \u001b[32m'emotional'\u001b[0m: \u001b[32m'RN'\u001b[0m\u001b[1m}\u001b[0m\n",
       "\u001b[1m}\u001b[0m\n"
      ]
     },
     "metadata": {},
     "output_type": "display_data"
    },
    {
     "name": "stdout",
     "output_type": "stream",
     "text": [
      "2023-08-31 19:56:07 [info     ] Updating attention\n",
      "2023-08-31 19:56:07 [info     ] Current Phis\n"
     ]
    },
    {
     "data": {
      "text/html": [
       "<pre style=\"white-space:pre;overflow-x:auto;line-height:normal;font-family:Menlo,'DejaVu Sans Mono',consolas,'Courier New',monospace\"><span style=\"font-weight: bold\">{</span>\n",
       "    <span style=\"color: #008000; text-decoration-color: #008000\">'biological'</span>: <span style=\"color: #008000; text-decoration-color: #008000\">'time_event_014,time_event_011,time_event_009,time_event_010,time_pattern_003'</span>,\n",
       "    <span style=\"color: #008000; text-decoration-color: #008000\">'cultural'</span>: <span style=\"color: #008000; text-decoration-color: #008000\">'time_event_014,time_event_011,time_event_009,time_event_010'</span>,\n",
       "    <span style=\"color: #008000; text-decoration-color: #008000\">'emotional'</span>: <span style=\"color: #008000; text-decoration-color: #008000\">'time_event_014,time_event_011,time_event_009,time_event_010'</span>\n",
       "<span style=\"font-weight: bold\">}</span>\n",
       "</pre>\n"
      ],
      "text/plain": [
       "\u001b[1m{\u001b[0m\n",
       "    \u001b[32m'biological'\u001b[0m: \u001b[32m'time_event_014,time_event_011,time_event_009,time_event_010,time_pattern_003'\u001b[0m,\n",
       "    \u001b[32m'cultural'\u001b[0m: \u001b[32m'time_event_014,time_event_011,time_event_009,time_event_010'\u001b[0m,\n",
       "    \u001b[32m'emotional'\u001b[0m: \u001b[32m'time_event_014,time_event_011,time_event_009,time_event_010'\u001b[0m\n",
       "\u001b[1m}\u001b[0m\n"
      ]
     },
     "metadata": {},
     "output_type": "display_data"
    },
    {
     "data": {
      "text/html": [
       "<pre style=\"white-space:pre;overflow-x:auto;line-height:normal;font-family:Menlo,'DejaVu Sans Mono',consolas,'Courier New',monospace\"><span style=\"color: #008000; text-decoration-color: #008000\">BCE de entrada al Agente Inteligente:                   </span> Bio:+<span style=\"color: #008080; text-decoration-color: #008080; font-weight: bold\">0.0</span> Cul:+<span style=\"color: #008080; text-decoration-color: #008080; font-weight: bold\">0.0</span> Emo:<span style=\"color: #008080; text-decoration-color: #008080; font-weight: bold\">-0.25</span>\n",
       "</pre>\n"
      ],
      "text/plain": [
       "\u001b[32mBCE de entrada al Agente Inteligente:   \u001b[0m\u001b[32m        \u001b[0m\u001b[32m        \u001b[0m Bio:+\u001b[1;36m0.0\u001b[0m Cul:+\u001b[1;36m0.0\u001b[0m Emo:\u001b[1;36m-0.25\u001b[0m\n"
      ]
     },
     "metadata": {},
     "output_type": "display_data"
    },
    {
     "data": {
      "text/html": [
       "<pre style=\"white-space:pre;overflow-x:auto;line-height:normal;font-family:Menlo,'DejaVu Sans Mono',consolas,'Courier New',monospace\">                <span style=\"color: #808000; text-decoration-color: #808000\">Estado Agente Inteligente:              </span> Bio:+<span style=\"color: #008080; text-decoration-color: #008080; font-weight: bold\">0.25</span> Cul:+<span style=\"color: #008080; text-decoration-color: #008080; font-weight: bold\">0.25</span> Emo:+<span style=\"color: #008080; text-decoration-color: #008080; font-weight: bold\">0.0</span>\n",
       "</pre>\n"
      ],
      "text/plain": [
       "                \u001b[33mEstado Agente Inteligente:      \u001b[0m\u001b[33m        \u001b[0m Bio:+\u001b[1;36m0.25\u001b[0m Cul:+\u001b[1;36m0.25\u001b[0m Emo:+\u001b[1;36m0.0\u001b[0m\n"
      ]
     },
     "metadata": {},
     "output_type": "display_data"
    },
    {
     "data": {
      "text/html": [
       "<pre style=\"white-space:pre;overflow-x:auto;line-height:normal;font-family:Menlo,'DejaVu Sans Mono',consolas,'Courier New',monospace\">phi windows\n",
       "</pre>\n"
      ],
      "text/plain": [
       "phi windows\n"
      ]
     },
     "metadata": {},
     "output_type": "display_data"
    },
    {
     "data": {
      "text/html": [
       "<pre style=\"white-space:pre;overflow-x:auto;line-height:normal;font-family:Menlo,'DejaVu Sans Mono',consolas,'Courier New',monospace\"><span style=\"font-weight: bold\">{</span>\n",
       "    <span style=\"color: #008000; text-decoration-color: #008000\">'biological'</span>: <span style=\"color: #008000; text-decoration-color: #008000\">'time_event_014,time_event_011,time_event_009,time_event_010,time_pattern_003'</span>,\n",
       "    <span style=\"color: #008000; text-decoration-color: #008000\">'cultural'</span>: <span style=\"color: #008000; text-decoration-color: #008000\">'time_event_014,time_event_011,time_event_009,time_event_010'</span>,\n",
       "    <span style=\"color: #008000; text-decoration-color: #008000\">'emotional'</span>: <span style=\"color: #008000; text-decoration-color: #008000\">'time_event_014,time_event_011,time_event_009,time_event_010'</span>\n",
       "<span style=\"font-weight: bold\">}</span>\n",
       "</pre>\n"
      ],
      "text/plain": [
       "\u001b[1m{\u001b[0m\n",
       "    \u001b[32m'biological'\u001b[0m: \u001b[32m'time_event_014,time_event_011,time_event_009,time_event_010,time_pattern_003'\u001b[0m,\n",
       "    \u001b[32m'cultural'\u001b[0m: \u001b[32m'time_event_014,time_event_011,time_event_009,time_event_010'\u001b[0m,\n",
       "    \u001b[32m'emotional'\u001b[0m: \u001b[32m'time_event_014,time_event_011,time_event_009,time_event_010'\u001b[0m\n",
       "\u001b[1m}\u001b[0m\n"
      ]
     },
     "metadata": {},
     "output_type": "display_data"
    },
    {
     "data": {
      "text/html": [
       "<pre style=\"white-space:pre;overflow-x:auto;line-height:normal;font-family:Menlo,'DejaVu Sans Mono',consolas,'Courier New',monospace\">phi windows\n",
       "</pre>\n"
      ],
      "text/plain": [
       "phi windows\n"
      ]
     },
     "metadata": {},
     "output_type": "display_data"
    },
    {
     "data": {
      "text/html": [
       "<pre style=\"white-space:pre;overflow-x:auto;line-height:normal;font-family:Menlo,'DejaVu Sans Mono',consolas,'Courier New',monospace\"><span style=\"font-weight: bold\">{</span>\n",
       "    <span style=\"color: #008000; text-decoration-color: #008000\">'biological'</span>: \n",
       "<span style=\"color: #008000; text-decoration-color: #008000\">'sight_event_009,sight_event_004,sight_event_010,sight_event_008,sight_event_000,sight_event_011,sight_event_012,si</span>\n",
       "<span style=\"color: #008000; text-decoration-color: #008000\">ght_event_002,sight_pattern_000'</span>,\n",
       "    <span style=\"color: #008000; text-decoration-color: #008000\">'cultural'</span>: <span style=\"color: #008000; text-decoration-color: #008000\">'touch_event_012,touch_event_008,touch_event_011,touch_pattern_005'</span>,\n",
       "    <span style=\"color: #008000; text-decoration-color: #008000\">'emotional'</span>: <span style=\"color: #008000; text-decoration-color: #008000\">'touch_event_012,touch_event_008,touch_event_011'</span>\n",
       "<span style=\"font-weight: bold\">}</span>\n",
       "</pre>\n"
      ],
      "text/plain": [
       "\u001b[1m{\u001b[0m\n",
       "    \u001b[32m'biological'\u001b[0m: \n",
       "\u001b[32m'sight_event_009,sight_event_004,sight_event_010,sight_event_008,sight_event_000,sight_event_011,sight_event_012,si\u001b[0m\n",
       "\u001b[32mght_event_002,sight_pattern_000'\u001b[0m,\n",
       "    \u001b[32m'cultural'\u001b[0m: \u001b[32m'touch_event_012,touch_event_008,touch_event_011,touch_pattern_005'\u001b[0m,\n",
       "    \u001b[32m'emotional'\u001b[0m: \u001b[32m'touch_event_012,touch_event_008,touch_event_011'\u001b[0m\n",
       "\u001b[1m}\u001b[0m\n"
      ]
     },
     "metadata": {},
     "output_type": "display_data"
    },
    {
     "data": {
      "text/html": [
       "<pre style=\"white-space:pre;overflow-x:auto;line-height:normal;font-family:Menlo,'DejaVu Sans Mono',consolas,'Courier New',monospace\">phi windows\n",
       "</pre>\n"
      ],
      "text/plain": [
       "phi windows\n"
      ]
     },
     "metadata": {},
     "output_type": "display_data"
    },
    {
     "data": {
      "text/html": [
       "<pre style=\"white-space:pre;overflow-x:auto;line-height:normal;font-family:Menlo,'DejaVu Sans Mono',consolas,'Courier New',monospace\"><span style=\"font-weight: bold\">{</span>\n",
       "    <span style=\"color: #008000; text-decoration-color: #008000\">'biological'</span>: <span style=\"color: #008000; text-decoration-color: #008000\">'smell_event_002,smell_event_006'</span>,\n",
       "    <span style=\"color: #008000; text-decoration-color: #008000\">'cultural'</span>: \n",
       "<span style=\"color: #008000; text-decoration-color: #008000\">'sight_event_009,sight_event_004,sight_event_010,sight_event_008,sight_event_000,sight_event_011,sight_event_012,si</span>\n",
       "<span style=\"color: #008000; text-decoration-color: #008000\">ght_event_002'</span>,\n",
       "    <span style=\"color: #008000; text-decoration-color: #008000\">'emotional'</span>: \n",
       "<span style=\"color: #008000; text-decoration-color: #008000\">'sight_event_009,sight_event_004,sight_event_010,sight_event_008,sight_event_000,sight_event_011,sight_event_012,si</span>\n",
       "<span style=\"color: #008000; text-decoration-color: #008000\">ght_event_002'</span>\n",
       "<span style=\"font-weight: bold\">}</span>\n",
       "</pre>\n"
      ],
      "text/plain": [
       "\u001b[1m{\u001b[0m\n",
       "    \u001b[32m'biological'\u001b[0m: \u001b[32m'smell_event_002,smell_event_006'\u001b[0m,\n",
       "    \u001b[32m'cultural'\u001b[0m: \n",
       "\u001b[32m'sight_event_009,sight_event_004,sight_event_010,sight_event_008,sight_event_000,sight_event_011,sight_event_012,si\u001b[0m\n",
       "\u001b[32mght_event_002'\u001b[0m,\n",
       "    \u001b[32m'emotional'\u001b[0m: \n",
       "\u001b[32m'sight_event_009,sight_event_004,sight_event_010,sight_event_008,sight_event_000,sight_event_011,sight_event_012,si\u001b[0m\n",
       "\u001b[32mght_event_002'\u001b[0m\n",
       "\u001b[1m}\u001b[0m\n"
      ]
     },
     "metadata": {},
     "output_type": "display_data"
    },
    {
     "data": {
      "text/html": [
       "<pre style=\"white-space:pre;overflow-x:auto;line-height:normal;font-family:Menlo,'DejaVu Sans Mono',consolas,'Courier New',monospace\">phi windows\n",
       "</pre>\n"
      ],
      "text/plain": [
       "phi windows\n"
      ]
     },
     "metadata": {},
     "output_type": "display_data"
    },
    {
     "data": {
      "text/html": [
       "<pre style=\"white-space:pre;overflow-x:auto;line-height:normal;font-family:Menlo,'DejaVu Sans Mono',consolas,'Courier New',monospace\"><span style=\"font-weight: bold\">{</span>\n",
       "    <span style=\"color: #008000; text-decoration-color: #008000\">'biological'</span>: <span style=\"color: #008000; text-decoration-color: #008000\">'taste_event_000,taste_pattern_012'</span>,\n",
       "    <span style=\"color: #008000; text-decoration-color: #008000\">'cultural'</span>: <span style=\"color: #008000; text-decoration-color: #008000\">'smell_event_002,smell_event_006'</span>,\n",
       "    <span style=\"color: #008000; text-decoration-color: #008000\">'emotional'</span>: <span style=\"color: #008000; text-decoration-color: #008000\">'smell_event_002,smell_event_006,smell_pattern_006'</span>\n",
       "<span style=\"font-weight: bold\">}</span>\n",
       "</pre>\n"
      ],
      "text/plain": [
       "\u001b[1m{\u001b[0m\n",
       "    \u001b[32m'biological'\u001b[0m: \u001b[32m'taste_event_000,taste_pattern_012'\u001b[0m,\n",
       "    \u001b[32m'cultural'\u001b[0m: \u001b[32m'smell_event_002,smell_event_006'\u001b[0m,\n",
       "    \u001b[32m'emotional'\u001b[0m: \u001b[32m'smell_event_002,smell_event_006,smell_pattern_006'\u001b[0m\n",
       "\u001b[1m}\u001b[0m\n"
      ]
     },
     "metadata": {},
     "output_type": "display_data"
    },
    {
     "data": {
      "text/html": [
       "<pre style=\"white-space:pre;overflow-x:auto;line-height:normal;font-family:Menlo,'DejaVu Sans Mono',consolas,'Courier New',monospace\">\n",
       "</pre>\n"
      ],
      "text/plain": [
       "\n"
      ]
     },
     "metadata": {},
     "output_type": "display_data"
    },
    {
     "data": {
      "text/html": [
       "<pre style=\"white-space:pre;overflow-x:auto;line-height:normal;font-family:Menlo,'DejaVu Sans Mono',consolas,'Courier New',monospace\">                <span style=\"color: #808000; text-decoration-color: #808000\">Estado Agente Inteligente:              </span> Bio:+<span style=\"color: #008080; text-decoration-color: #008080; font-weight: bold\">0.25</span> Cul:+<span style=\"color: #008080; text-decoration-color: #008080; font-weight: bold\">0.25</span> Emo:+<span style=\"color: #008080; text-decoration-color: #008080; font-weight: bold\">0.0</span>\n",
       "</pre>\n"
      ],
      "text/plain": [
       "                \u001b[33mEstado Agente Inteligente:      \u001b[0m\u001b[33m        \u001b[0m Bio:+\u001b[1;36m0.25\u001b[0m Cul:+\u001b[1;36m0.25\u001b[0m Emo:+\u001b[1;36m0.0\u001b[0m\n"
      ]
     },
     "metadata": {},
     "output_type": "display_data"
    },
    {
     "data": {
      "text/html": [
       "<pre style=\"white-space:pre;overflow-x:auto;line-height:normal;font-family:Menlo,'DejaVu Sans Mono',consolas,'Courier New',monospace\">Información de los eventos sensoriales:\n",
       "<span style=\"font-weight: bold\">[</span>\n",
       "    <span style=\"font-weight: bold\">[</span>Bio:<span style=\"color: #008080; text-decoration-color: #008080; font-weight: bold\">-0.0</span> Cul:<span style=\"color: #008080; text-decoration-color: #008080; font-weight: bold\">-0.0</span> Emo:<span style=\"color: #008080; text-decoration-color: #008080; font-weight: bold\">-0.25</span>, <span style=\"color: #008000; text-decoration-color: #008000\">'sight'</span><span style=\"font-weight: bold\">]</span>,\n",
       "    <span style=\"font-weight: bold\">[</span>Bio:+<span style=\"color: #008080; text-decoration-color: #008080; font-weight: bold\">0.0</span> Cul:+<span style=\"color: #008080; text-decoration-color: #008080; font-weight: bold\">0.5</span> Emo:<span style=\"color: #008080; text-decoration-color: #008080; font-weight: bold\">-0.0</span>, <span style=\"color: #008000; text-decoration-color: #008000\">'hearing'</span><span style=\"font-weight: bold\">]</span>,\n",
       "    <span style=\"font-weight: bold\">[</span>Bio:<span style=\"color: #008080; text-decoration-color: #008080; font-weight: bold\">-0.25</span> Cul:<span style=\"color: #008080; text-decoration-color: #008080; font-weight: bold\">-0.75</span> Emo:+<span style=\"color: #008080; text-decoration-color: #008080; font-weight: bold\">0.0</span>, <span style=\"color: #008000; text-decoration-color: #008000\">'smell'</span><span style=\"font-weight: bold\">]</span>,\n",
       "    <span style=\"font-weight: bold\">[</span>Bio:+<span style=\"color: #008080; text-decoration-color: #008080; font-weight: bold\">0.75</span> Cul:+<span style=\"color: #008080; text-decoration-color: #008080; font-weight: bold\">0.0</span> Emo:+<span style=\"color: #008080; text-decoration-color: #008080; font-weight: bold\">0.0</span>, <span style=\"color: #008000; text-decoration-color: #008000\">'taste'</span><span style=\"font-weight: bold\">]</span>,\n",
       "    <span style=\"font-weight: bold\">[</span>Bio:<span style=\"color: #008080; text-decoration-color: #008080; font-weight: bold\">-0.5</span> Cul:+<span style=\"color: #008080; text-decoration-color: #008080; font-weight: bold\">0.25</span> Emo:<span style=\"color: #008080; text-decoration-color: #008080; font-weight: bold\">-0.25</span>, <span style=\"color: #008000; text-decoration-color: #008000\">'touch'</span><span style=\"font-weight: bold\">]</span>,\n",
       "    <span style=\"font-weight: bold\">[</span>Bio:+<span style=\"color: #008080; text-decoration-color: #008080; font-weight: bold\">0.5</span> Cul:+<span style=\"color: #008080; text-decoration-color: #008080; font-weight: bold\">0.0</span> Emo:<span style=\"color: #008080; text-decoration-color: #008080; font-weight: bold\">-0.0</span>, <span style=\"color: #008000; text-decoration-color: #008000\">'body'</span><span style=\"font-weight: bold\">]</span>,\n",
       "    <span style=\"font-weight: bold\">[</span>Bio:+<span style=\"color: #008080; text-decoration-color: #008080; font-weight: bold\">0.0</span> Cul:<span style=\"color: #008080; text-decoration-color: #008080; font-weight: bold\">-0.75</span> Emo:<span style=\"color: #008080; text-decoration-color: #008080; font-weight: bold\">-0.25</span>, <span style=\"color: #008000; text-decoration-color: #008000\">'time'</span><span style=\"font-weight: bold\">]</span>\n",
       "<span style=\"font-weight: bold\">]</span>\n",
       "</pre>\n"
      ],
      "text/plain": [
       "Información de los eventos sensoriales:\n",
       "\u001b[1m[\u001b[0m\n",
       "    \u001b[1m[\u001b[0mBio:\u001b[1;36m-0.0\u001b[0m Cul:\u001b[1;36m-0.0\u001b[0m Emo:\u001b[1;36m-0.25\u001b[0m, \u001b[32m'sight'\u001b[0m\u001b[1m]\u001b[0m,\n",
       "    \u001b[1m[\u001b[0mBio:+\u001b[1;36m0.0\u001b[0m Cul:+\u001b[1;36m0.5\u001b[0m Emo:\u001b[1;36m-0.0\u001b[0m, \u001b[32m'hearing'\u001b[0m\u001b[1m]\u001b[0m,\n",
       "    \u001b[1m[\u001b[0mBio:\u001b[1;36m-0.25\u001b[0m Cul:\u001b[1;36m-0.75\u001b[0m Emo:+\u001b[1;36m0.0\u001b[0m, \u001b[32m'smell'\u001b[0m\u001b[1m]\u001b[0m,\n",
       "    \u001b[1m[\u001b[0mBio:+\u001b[1;36m0.75\u001b[0m Cul:+\u001b[1;36m0.0\u001b[0m Emo:+\u001b[1;36m0.0\u001b[0m, \u001b[32m'taste'\u001b[0m\u001b[1m]\u001b[0m,\n",
       "    \u001b[1m[\u001b[0mBio:\u001b[1;36m-0.5\u001b[0m Cul:+\u001b[1;36m0.25\u001b[0m Emo:\u001b[1;36m-0.25\u001b[0m, \u001b[32m'touch'\u001b[0m\u001b[1m]\u001b[0m,\n",
       "    \u001b[1m[\u001b[0mBio:+\u001b[1;36m0.5\u001b[0m Cul:+\u001b[1;36m0.0\u001b[0m Emo:\u001b[1;36m-0.0\u001b[0m, \u001b[32m'body'\u001b[0m\u001b[1m]\u001b[0m,\n",
       "    \u001b[1m[\u001b[0mBio:+\u001b[1;36m0.0\u001b[0m Cul:\u001b[1;36m-0.75\u001b[0m Emo:\u001b[1;36m-0.25\u001b[0m, \u001b[32m'time'\u001b[0m\u001b[1m]\u001b[0m\n",
       "\u001b[1m]\u001b[0m\n"
      ]
     },
     "metadata": {},
     "output_type": "display_data"
    },
    {
     "data": {
      "text/html": [
       "<pre style=\"white-space:pre;overflow-x:auto;line-height:normal;font-family:Menlo,'DejaVu Sans Mono',consolas,'Courier New',monospace\">BCE Ganadores:\n",
       "<span style=\"font-weight: bold\">{</span>\n",
       "    <span style=\"color: #008000; text-decoration-color: #008000\">'hearing'</span>: <span style=\"font-weight: bold\">{</span><span style=\"color: #008000; text-decoration-color: #008000\">'biological'</span>: +<span style=\"color: #008080; text-decoration-color: #008080; font-weight: bold\">0.25</span>, <span style=\"color: #008000; text-decoration-color: #008000\">'cultural'</span>: +<span style=\"color: #008080; text-decoration-color: #008080; font-weight: bold\">0.5</span>, <span style=\"color: #008000; text-decoration-color: #008000\">'emotional'</span>: +<span style=\"color: #008080; text-decoration-color: #008080; font-weight: bold\">0.0</span><span style=\"font-weight: bold\">}</span>,\n",
       "    <span style=\"color: #008000; text-decoration-color: #008000\">'touch'</span>: <span style=\"font-weight: bold\">{</span><span style=\"color: #008000; text-decoration-color: #008000\">'biological'</span>: <span style=\"color: #008080; text-decoration-color: #008080; font-weight: bold\">-0.5</span>, <span style=\"color: #008000; text-decoration-color: #008000\">'cultural'</span>: +<span style=\"color: #008080; text-decoration-color: #008080; font-weight: bold\">0.25</span>, <span style=\"color: #008000; text-decoration-color: #008000\">'emotional'</span>: <span style=\"color: #008080; text-decoration-color: #008080; font-weight: bold\">-0.25</span><span style=\"font-weight: bold\">}</span>,\n",
       "    <span style=\"color: #008000; text-decoration-color: #008000\">'sight'</span>: <span style=\"font-weight: bold\">{</span><span style=\"color: #008000; text-decoration-color: #008000\">'biological'</span>: +<span style=\"color: #008080; text-decoration-color: #008080; font-weight: bold\">0.25</span>, <span style=\"color: #008000; text-decoration-color: #008000\">'cultural'</span>: +<span style=\"color: #008080; text-decoration-color: #008080; font-weight: bold\">0.25</span>, <span style=\"color: #008000; text-decoration-color: #008000\">'emotional'</span>: <span style=\"color: #008080; text-decoration-color: #008080; font-weight: bold\">-0.25</span><span style=\"font-weight: bold\">}</span>,\n",
       "    <span style=\"color: #008000; text-decoration-color: #008000\">'smell'</span>: <span style=\"font-weight: bold\">{</span><span style=\"color: #008000; text-decoration-color: #008000\">'biological'</span>: +<span style=\"color: #008080; text-decoration-color: #008080; font-weight: bold\">0.25</span>, <span style=\"color: #008000; text-decoration-color: #008000\">'cultural'</span>: <span style=\"color: #008080; text-decoration-color: #008080; font-weight: bold\">-0.75</span>, <span style=\"color: #008000; text-decoration-color: #008000\">'emotional'</span>: +<span style=\"color: #008080; text-decoration-color: #008080; font-weight: bold\">0.0</span><span style=\"font-weight: bold\">}</span>,\n",
       "    <span style=\"color: #008000; text-decoration-color: #008000\">'taste'</span>: <span style=\"font-weight: bold\">{</span><span style=\"color: #008000; text-decoration-color: #008000\">'biological'</span>: +<span style=\"color: #008080; text-decoration-color: #008080; font-weight: bold\">0.75</span>, <span style=\"color: #008000; text-decoration-color: #008000\">'cultural'</span>: +<span style=\"color: #008080; text-decoration-color: #008080; font-weight: bold\">0.25</span>, <span style=\"color: #008000; text-decoration-color: #008000\">'emotional'</span>: +<span style=\"color: #008080; text-decoration-color: #008080; font-weight: bold\">0.0</span><span style=\"font-weight: bold\">}</span>,\n",
       "    <span style=\"color: #008000; text-decoration-color: #008000\">'body'</span>: <span style=\"font-weight: bold\">{</span><span style=\"color: #008000; text-decoration-color: #008000\">'biological'</span>: +<span style=\"color: #008080; text-decoration-color: #008080; font-weight: bold\">0.5</span>, <span style=\"color: #008000; text-decoration-color: #008000\">'cultural'</span>: +<span style=\"color: #008080; text-decoration-color: #008080; font-weight: bold\">0.25</span>, <span style=\"color: #008000; text-decoration-color: #008000\">'emotional'</span>: +<span style=\"color: #008080; text-decoration-color: #008080; font-weight: bold\">0.0</span><span style=\"font-weight: bold\">}</span>,\n",
       "    <span style=\"color: #008000; text-decoration-color: #008000\">'time'</span>: <span style=\"font-weight: bold\">{</span><span style=\"color: #008000; text-decoration-color: #008000\">'biological'</span>: +<span style=\"color: #008080; text-decoration-color: #008080; font-weight: bold\">0.25</span>, <span style=\"color: #008000; text-decoration-color: #008000\">'cultural'</span>: <span style=\"color: #008080; text-decoration-color: #008080; font-weight: bold\">-0.75</span>, <span style=\"color: #008000; text-decoration-color: #008000\">'emotional'</span>: <span style=\"color: #008080; text-decoration-color: #008080; font-weight: bold\">-0.25</span><span style=\"font-weight: bold\">}</span>\n",
       "<span style=\"font-weight: bold\">}</span>\n",
       "<span style=\"font-weight: bold\">{</span>\n",
       "    <span style=\"color: #008000; text-decoration-color: #008000\">'hearing'</span>: <span style=\"font-weight: bold\">{</span><span style=\"color: #008000; text-decoration-color: #008000\">'biological'</span>: <span style=\"color: #008000; text-decoration-color: #008000\">'AI'</span>, <span style=\"color: #008000; text-decoration-color: #008000\">'cultural'</span>: <span style=\"color: #008000; text-decoration-color: #008000\">'RN'</span>, <span style=\"color: #008000; text-decoration-color: #008000\">'emotional'</span>: <span style=\"color: #008000; text-decoration-color: #008000\">'AI'</span><span style=\"font-weight: bold\">}</span>,\n",
       "    <span style=\"color: #008000; text-decoration-color: #008000\">'touch'</span>: <span style=\"font-weight: bold\">{</span><span style=\"color: #008000; text-decoration-color: #008000\">'biological'</span>: <span style=\"color: #008000; text-decoration-color: #008000\">'RN'</span>, <span style=\"color: #008000; text-decoration-color: #008000\">'cultural'</span>: <span style=\"color: #008000; text-decoration-color: #008000\">'AI'</span>, <span style=\"color: #008000; text-decoration-color: #008000\">'emotional'</span>: <span style=\"color: #008000; text-decoration-color: #008000\">'RN'</span><span style=\"font-weight: bold\">}</span>,\n",
       "    <span style=\"color: #008000; text-decoration-color: #008000\">'sight'</span>: <span style=\"font-weight: bold\">{</span><span style=\"color: #008000; text-decoration-color: #008000\">'biological'</span>: <span style=\"color: #008000; text-decoration-color: #008000\">'AI'</span>, <span style=\"color: #008000; text-decoration-color: #008000\">'cultural'</span>: <span style=\"color: #008000; text-decoration-color: #008000\">'AI'</span>, <span style=\"color: #008000; text-decoration-color: #008000\">'emotional'</span>: <span style=\"color: #008000; text-decoration-color: #008000\">'RN'</span><span style=\"font-weight: bold\">}</span>,\n",
       "    <span style=\"color: #008000; text-decoration-color: #008000\">'smell'</span>: <span style=\"font-weight: bold\">{</span><span style=\"color: #008000; text-decoration-color: #008000\">'biological'</span>: <span style=\"color: #008000; text-decoration-color: #008000\">'AI'</span>, <span style=\"color: #008000; text-decoration-color: #008000\">'cultural'</span>: <span style=\"color: #008000; text-decoration-color: #008000\">'RN'</span>, <span style=\"color: #008000; text-decoration-color: #008000\">'emotional'</span>: <span style=\"color: #008000; text-decoration-color: #008000\">'AI'</span><span style=\"font-weight: bold\">}</span>,\n",
       "    <span style=\"color: #008000; text-decoration-color: #008000\">'taste'</span>: <span style=\"font-weight: bold\">{</span><span style=\"color: #008000; text-decoration-color: #008000\">'biological'</span>: <span style=\"color: #008000; text-decoration-color: #008000\">'RN'</span>, <span style=\"color: #008000; text-decoration-color: #008000\">'cultural'</span>: <span style=\"color: #008000; text-decoration-color: #008000\">'AI'</span>, <span style=\"color: #008000; text-decoration-color: #008000\">'emotional'</span>: <span style=\"color: #008000; text-decoration-color: #008000\">'AI'</span><span style=\"font-weight: bold\">}</span>,\n",
       "    <span style=\"color: #008000; text-decoration-color: #008000\">'body'</span>: <span style=\"font-weight: bold\">{</span><span style=\"color: #008000; text-decoration-color: #008000\">'biological'</span>: <span style=\"color: #008000; text-decoration-color: #008000\">'RN'</span>, <span style=\"color: #008000; text-decoration-color: #008000\">'cultural'</span>: <span style=\"color: #008000; text-decoration-color: #008000\">'AI'</span>, <span style=\"color: #008000; text-decoration-color: #008000\">'emotional'</span>: <span style=\"color: #008000; text-decoration-color: #008000\">'AI'</span><span style=\"font-weight: bold\">}</span>,\n",
       "    <span style=\"color: #008000; text-decoration-color: #008000\">'time'</span>: <span style=\"font-weight: bold\">{</span><span style=\"color: #008000; text-decoration-color: #008000\">'biological'</span>: <span style=\"color: #008000; text-decoration-color: #008000\">'AI'</span>, <span style=\"color: #008000; text-decoration-color: #008000\">'cultural'</span>: <span style=\"color: #008000; text-decoration-color: #008000\">'RN'</span>, <span style=\"color: #008000; text-decoration-color: #008000\">'emotional'</span>: <span style=\"color: #008000; text-decoration-color: #008000\">'RN'</span><span style=\"font-weight: bold\">}</span>\n",
       "<span style=\"font-weight: bold\">}</span>\n",
       "</pre>\n"
      ],
      "text/plain": [
       "BCE Ganadores:\n",
       "\u001b[1m{\u001b[0m\n",
       "    \u001b[32m'hearing'\u001b[0m: \u001b[1m{\u001b[0m\u001b[32m'biological'\u001b[0m: +\u001b[1;36m0.25\u001b[0m, \u001b[32m'cultural'\u001b[0m: +\u001b[1;36m0.5\u001b[0m, \u001b[32m'emotional'\u001b[0m: +\u001b[1;36m0.0\u001b[0m\u001b[1m}\u001b[0m,\n",
       "    \u001b[32m'touch'\u001b[0m: \u001b[1m{\u001b[0m\u001b[32m'biological'\u001b[0m: \u001b[1;36m-0.5\u001b[0m, \u001b[32m'cultural'\u001b[0m: +\u001b[1;36m0.25\u001b[0m, \u001b[32m'emotional'\u001b[0m: \u001b[1;36m-0.25\u001b[0m\u001b[1m}\u001b[0m,\n",
       "    \u001b[32m'sight'\u001b[0m: \u001b[1m{\u001b[0m\u001b[32m'biological'\u001b[0m: +\u001b[1;36m0.25\u001b[0m, \u001b[32m'cultural'\u001b[0m: +\u001b[1;36m0.25\u001b[0m, \u001b[32m'emotional'\u001b[0m: \u001b[1;36m-0.25\u001b[0m\u001b[1m}\u001b[0m,\n",
       "    \u001b[32m'smell'\u001b[0m: \u001b[1m{\u001b[0m\u001b[32m'biological'\u001b[0m: +\u001b[1;36m0.25\u001b[0m, \u001b[32m'cultural'\u001b[0m: \u001b[1;36m-0.75\u001b[0m, \u001b[32m'emotional'\u001b[0m: +\u001b[1;36m0.0\u001b[0m\u001b[1m}\u001b[0m,\n",
       "    \u001b[32m'taste'\u001b[0m: \u001b[1m{\u001b[0m\u001b[32m'biological'\u001b[0m: +\u001b[1;36m0.75\u001b[0m, \u001b[32m'cultural'\u001b[0m: +\u001b[1;36m0.25\u001b[0m, \u001b[32m'emotional'\u001b[0m: +\u001b[1;36m0.0\u001b[0m\u001b[1m}\u001b[0m,\n",
       "    \u001b[32m'body'\u001b[0m: \u001b[1m{\u001b[0m\u001b[32m'biological'\u001b[0m: +\u001b[1;36m0.5\u001b[0m, \u001b[32m'cultural'\u001b[0m: +\u001b[1;36m0.25\u001b[0m, \u001b[32m'emotional'\u001b[0m: +\u001b[1;36m0.0\u001b[0m\u001b[1m}\u001b[0m,\n",
       "    \u001b[32m'time'\u001b[0m: \u001b[1m{\u001b[0m\u001b[32m'biological'\u001b[0m: +\u001b[1;36m0.25\u001b[0m, \u001b[32m'cultural'\u001b[0m: \u001b[1;36m-0.75\u001b[0m, \u001b[32m'emotional'\u001b[0m: \u001b[1;36m-0.25\u001b[0m\u001b[1m}\u001b[0m\n",
       "\u001b[1m}\u001b[0m\n",
       "\u001b[1m{\u001b[0m\n",
       "    \u001b[32m'hearing'\u001b[0m: \u001b[1m{\u001b[0m\u001b[32m'biological'\u001b[0m: \u001b[32m'AI'\u001b[0m, \u001b[32m'cultural'\u001b[0m: \u001b[32m'RN'\u001b[0m, \u001b[32m'emotional'\u001b[0m: \u001b[32m'AI'\u001b[0m\u001b[1m}\u001b[0m,\n",
       "    \u001b[32m'touch'\u001b[0m: \u001b[1m{\u001b[0m\u001b[32m'biological'\u001b[0m: \u001b[32m'RN'\u001b[0m, \u001b[32m'cultural'\u001b[0m: \u001b[32m'AI'\u001b[0m, \u001b[32m'emotional'\u001b[0m: \u001b[32m'RN'\u001b[0m\u001b[1m}\u001b[0m,\n",
       "    \u001b[32m'sight'\u001b[0m: \u001b[1m{\u001b[0m\u001b[32m'biological'\u001b[0m: \u001b[32m'AI'\u001b[0m, \u001b[32m'cultural'\u001b[0m: \u001b[32m'AI'\u001b[0m, \u001b[32m'emotional'\u001b[0m: \u001b[32m'RN'\u001b[0m\u001b[1m}\u001b[0m,\n",
       "    \u001b[32m'smell'\u001b[0m: \u001b[1m{\u001b[0m\u001b[32m'biological'\u001b[0m: \u001b[32m'AI'\u001b[0m, \u001b[32m'cultural'\u001b[0m: \u001b[32m'RN'\u001b[0m, \u001b[32m'emotional'\u001b[0m: \u001b[32m'AI'\u001b[0m\u001b[1m}\u001b[0m,\n",
       "    \u001b[32m'taste'\u001b[0m: \u001b[1m{\u001b[0m\u001b[32m'biological'\u001b[0m: \u001b[32m'RN'\u001b[0m, \u001b[32m'cultural'\u001b[0m: \u001b[32m'AI'\u001b[0m, \u001b[32m'emotional'\u001b[0m: \u001b[32m'AI'\u001b[0m\u001b[1m}\u001b[0m,\n",
       "    \u001b[32m'body'\u001b[0m: \u001b[1m{\u001b[0m\u001b[32m'biological'\u001b[0m: \u001b[32m'RN'\u001b[0m, \u001b[32m'cultural'\u001b[0m: \u001b[32m'AI'\u001b[0m, \u001b[32m'emotional'\u001b[0m: \u001b[32m'AI'\u001b[0m\u001b[1m}\u001b[0m,\n",
       "    \u001b[32m'time'\u001b[0m: \u001b[1m{\u001b[0m\u001b[32m'biological'\u001b[0m: \u001b[32m'AI'\u001b[0m, \u001b[32m'cultural'\u001b[0m: \u001b[32m'RN'\u001b[0m, \u001b[32m'emotional'\u001b[0m: \u001b[32m'RN'\u001b[0m\u001b[1m}\u001b[0m\n",
       "\u001b[1m}\u001b[0m\n"
      ]
     },
     "metadata": {},
     "output_type": "display_data"
    },
    {
     "name": "stdout",
     "output_type": "stream",
     "text": [
      "2023-08-31 19:56:12 [info     ] Updating attention\n",
      "2023-08-31 19:56:12 [info     ] Current Phis\n"
     ]
    },
    {
     "data": {
      "text/html": [
       "<pre style=\"white-space:pre;overflow-x:auto;line-height:normal;font-family:Menlo,'DejaVu Sans Mono',consolas,'Courier New',monospace\"><span style=\"font-weight: bold\">{</span>\n",
       "    <span style=\"color: #008000; text-decoration-color: #008000\">'biological'</span>: <span style=\"color: #008000; text-decoration-color: #008000\">'touch_event_012,touch_event_008,touch_event_011'</span>,\n",
       "    <span style=\"color: #008000; text-decoration-color: #008000\">'cultural'</span>: <span style=\"color: #008000; text-decoration-color: #008000\">'hearing_event_008'</span>,\n",
       "    <span style=\"color: #008000; text-decoration-color: #008000\">'emotional'</span>: <span style=\"color: #008000; text-decoration-color: #008000\">'taste_event_000'</span>\n",
       "<span style=\"font-weight: bold\">}</span>\n",
       "</pre>\n"
      ],
      "text/plain": [
       "\u001b[1m{\u001b[0m\n",
       "    \u001b[32m'biological'\u001b[0m: \u001b[32m'touch_event_012,touch_event_008,touch_event_011'\u001b[0m,\n",
       "    \u001b[32m'cultural'\u001b[0m: \u001b[32m'hearing_event_008'\u001b[0m,\n",
       "    \u001b[32m'emotional'\u001b[0m: \u001b[32m'taste_event_000'\u001b[0m\n",
       "\u001b[1m}\u001b[0m\n"
      ]
     },
     "metadata": {},
     "output_type": "display_data"
    },
    {
     "data": {
      "text/html": [
       "<pre style=\"white-space:pre;overflow-x:auto;line-height:normal;font-family:Menlo,'DejaVu Sans Mono',consolas,'Courier New',monospace\"><span style=\"color: #008000; text-decoration-color: #008000\">BCE de entrada al Agente Inteligente:                   </span> Bio:+<span style=\"color: #008080; text-decoration-color: #008080; font-weight: bold\">0.25</span> Cul:+<span style=\"color: #008080; text-decoration-color: #008080; font-weight: bold\">0.0</span> Emo:<span style=\"color: #008080; text-decoration-color: #008080; font-weight: bold\">-0.25</span>\n",
       "</pre>\n"
      ],
      "text/plain": [
       "\u001b[32mBCE de entrada al Agente Inteligente:   \u001b[0m\u001b[32m        \u001b[0m\u001b[32m        \u001b[0m Bio:+\u001b[1;36m0.25\u001b[0m Cul:+\u001b[1;36m0.0\u001b[0m Emo:\u001b[1;36m-0.25\u001b[0m\n"
      ]
     },
     "metadata": {},
     "output_type": "display_data"
    },
    {
     "data": {
      "text/html": [
       "<pre style=\"white-space:pre;overflow-x:auto;line-height:normal;font-family:Menlo,'DejaVu Sans Mono',consolas,'Courier New',monospace\">                <span style=\"color: #808000; text-decoration-color: #808000\">Estado Agente Inteligente:              </span> Bio:+<span style=\"color: #008080; text-decoration-color: #008080; font-weight: bold\">0.75</span> Cul:+<span style=\"color: #008080; text-decoration-color: #008080; font-weight: bold\">0.5</span> Emo:+<span style=\"color: #008080; text-decoration-color: #008080; font-weight: bold\">0.0</span>\n",
       "</pre>\n"
      ],
      "text/plain": [
       "                \u001b[33mEstado Agente Inteligente:      \u001b[0m\u001b[33m        \u001b[0m Bio:+\u001b[1;36m0.75\u001b[0m Cul:+\u001b[1;36m0.5\u001b[0m Emo:+\u001b[1;36m0.0\u001b[0m\n"
      ]
     },
     "metadata": {},
     "output_type": "display_data"
    },
    {
     "data": {
      "text/html": [
       "<pre style=\"white-space:pre;overflow-x:auto;line-height:normal;font-family:Menlo,'DejaVu Sans Mono',consolas,'Courier New',monospace\">phi windows\n",
       "</pre>\n"
      ],
      "text/plain": [
       "phi windows\n"
      ]
     },
     "metadata": {},
     "output_type": "display_data"
    },
    {
     "data": {
      "text/html": [
       "<pre style=\"white-space:pre;overflow-x:auto;line-height:normal;font-family:Menlo,'DejaVu Sans Mono',consolas,'Courier New',monospace\"><span style=\"font-weight: bold\">{</span>\n",
       "    <span style=\"color: #008000; text-decoration-color: #008000\">'biological'</span>: <span style=\"color: #008000; text-decoration-color: #008000\">'touch_event_012,touch_event_008,touch_event_011'</span>,\n",
       "    <span style=\"color: #008000; text-decoration-color: #008000\">'cultural'</span>: <span style=\"color: #008000; text-decoration-color: #008000\">'hearing_event_008'</span>,\n",
       "    <span style=\"color: #008000; text-decoration-color: #008000\">'emotional'</span>: <span style=\"color: #008000; text-decoration-color: #008000\">'taste_event_000'</span>\n",
       "<span style=\"font-weight: bold\">}</span>\n",
       "</pre>\n"
      ],
      "text/plain": [
       "\u001b[1m{\u001b[0m\n",
       "    \u001b[32m'biological'\u001b[0m: \u001b[32m'touch_event_012,touch_event_008,touch_event_011'\u001b[0m,\n",
       "    \u001b[32m'cultural'\u001b[0m: \u001b[32m'hearing_event_008'\u001b[0m,\n",
       "    \u001b[32m'emotional'\u001b[0m: \u001b[32m'taste_event_000'\u001b[0m\n",
       "\u001b[1m}\u001b[0m\n"
      ]
     },
     "metadata": {},
     "output_type": "display_data"
    },
    {
     "data": {
      "text/html": [
       "<pre style=\"white-space:pre;overflow-x:auto;line-height:normal;font-family:Menlo,'DejaVu Sans Mono',consolas,'Courier New',monospace\">phi windows\n",
       "</pre>\n"
      ],
      "text/plain": [
       "phi windows\n"
      ]
     },
     "metadata": {},
     "output_type": "display_data"
    },
    {
     "data": {
      "text/html": [
       "<pre style=\"white-space:pre;overflow-x:auto;line-height:normal;font-family:Menlo,'DejaVu Sans Mono',consolas,'Courier New',monospace\"><span style=\"font-weight: bold\">{</span>\n",
       "    <span style=\"color: #008000; text-decoration-color: #008000\">'biological'</span>: <span style=\"color: #008000; text-decoration-color: #008000\">'time_event_014,time_event_011,time_event_009,time_event_010,time_pattern_003'</span>,\n",
       "    <span style=\"color: #008000; text-decoration-color: #008000\">'cultural'</span>: <span style=\"color: #008000; text-decoration-color: #008000\">'time_event_014,time_event_011,time_event_009,time_event_010'</span>,\n",
       "    <span style=\"color: #008000; text-decoration-color: #008000\">'emotional'</span>: <span style=\"color: #008000; text-decoration-color: #008000\">'body_event_011'</span>\n",
       "<span style=\"font-weight: bold\">}</span>\n",
       "</pre>\n"
      ],
      "text/plain": [
       "\u001b[1m{\u001b[0m\n",
       "    \u001b[32m'biological'\u001b[0m: \u001b[32m'time_event_014,time_event_011,time_event_009,time_event_010,time_pattern_003'\u001b[0m,\n",
       "    \u001b[32m'cultural'\u001b[0m: \u001b[32m'time_event_014,time_event_011,time_event_009,time_event_010'\u001b[0m,\n",
       "    \u001b[32m'emotional'\u001b[0m: \u001b[32m'body_event_011'\u001b[0m\n",
       "\u001b[1m}\u001b[0m\n"
      ]
     },
     "metadata": {},
     "output_type": "display_data"
    },
    {
     "data": {
      "text/html": [
       "<pre style=\"white-space:pre;overflow-x:auto;line-height:normal;font-family:Menlo,'DejaVu Sans Mono',consolas,'Courier New',monospace\">phi windows\n",
       "</pre>\n"
      ],
      "text/plain": [
       "phi windows\n"
      ]
     },
     "metadata": {},
     "output_type": "display_data"
    },
    {
     "data": {
      "text/html": [
       "<pre style=\"white-space:pre;overflow-x:auto;line-height:normal;font-family:Menlo,'DejaVu Sans Mono',consolas,'Courier New',monospace\"><span style=\"font-weight: bold\">{</span>\n",
       "    <span style=\"color: #008000; text-decoration-color: #008000\">'biological'</span>: <span style=\"color: #008000; text-decoration-color: #008000\">'touch_event_012,touch_event_008,touch_event_011'</span>,\n",
       "    <span style=\"color: #008000; text-decoration-color: #008000\">'cultural'</span>: <span style=\"color: #008000; text-decoration-color: #008000\">'hearing_event_008'</span>,\n",
       "    <span style=\"color: #008000; text-decoration-color: #008000\">'emotional'</span>: <span style=\"color: #008000; text-decoration-color: #008000\">'time_event_014,time_event_011,time_event_009,time_event_010'</span>\n",
       "<span style=\"font-weight: bold\">}</span>\n",
       "</pre>\n"
      ],
      "text/plain": [
       "\u001b[1m{\u001b[0m\n",
       "    \u001b[32m'biological'\u001b[0m: \u001b[32m'touch_event_012,touch_event_008,touch_event_011'\u001b[0m,\n",
       "    \u001b[32m'cultural'\u001b[0m: \u001b[32m'hearing_event_008'\u001b[0m,\n",
       "    \u001b[32m'emotional'\u001b[0m: \u001b[32m'time_event_014,time_event_011,time_event_009,time_event_010'\u001b[0m\n",
       "\u001b[1m}\u001b[0m\n"
      ]
     },
     "metadata": {},
     "output_type": "display_data"
    },
    {
     "data": {
      "text/html": [
       "<pre style=\"white-space:pre;overflow-x:auto;line-height:normal;font-family:Menlo,'DejaVu Sans Mono',consolas,'Courier New',monospace\">phi windows\n",
       "</pre>\n"
      ],
      "text/plain": [
       "phi windows\n"
      ]
     },
     "metadata": {},
     "output_type": "display_data"
    },
    {
     "data": {
      "text/html": [
       "<pre style=\"white-space:pre;overflow-x:auto;line-height:normal;font-family:Menlo,'DejaVu Sans Mono',consolas,'Courier New',monospace\"><span style=\"font-weight: bold\">{</span>\n",
       "    <span style=\"color: #008000; text-decoration-color: #008000\">'biological'</span>: <span style=\"color: #008000; text-decoration-color: #008000\">'taste_event_000,taste_pattern_012'</span>,\n",
       "    <span style=\"color: #008000; text-decoration-color: #008000\">'cultural'</span>: <span style=\"color: #008000; text-decoration-color: #008000\">'smell_event_002,smell_event_006'</span>,\n",
       "    <span style=\"color: #008000; text-decoration-color: #008000\">'emotional'</span>: <span style=\"color: #008000; text-decoration-color: #008000\">'touch_event_012,touch_event_008,touch_event_011'</span>\n",
       "<span style=\"font-weight: bold\">}</span>\n",
       "</pre>\n"
      ],
      "text/plain": [
       "\u001b[1m{\u001b[0m\n",
       "    \u001b[32m'biological'\u001b[0m: \u001b[32m'taste_event_000,taste_pattern_012'\u001b[0m,\n",
       "    \u001b[32m'cultural'\u001b[0m: \u001b[32m'smell_event_002,smell_event_006'\u001b[0m,\n",
       "    \u001b[32m'emotional'\u001b[0m: \u001b[32m'touch_event_012,touch_event_008,touch_event_011'\u001b[0m\n",
       "\u001b[1m}\u001b[0m\n"
      ]
     },
     "metadata": {},
     "output_type": "display_data"
    },
    {
     "data": {
      "text/html": [
       "<pre style=\"white-space:pre;overflow-x:auto;line-height:normal;font-family:Menlo,'DejaVu Sans Mono',consolas,'Courier New',monospace\">phi windows\n",
       "</pre>\n"
      ],
      "text/plain": [
       "phi windows\n"
      ]
     },
     "metadata": {},
     "output_type": "display_data"
    },
    {
     "data": {
      "text/html": [
       "<pre style=\"white-space:pre;overflow-x:auto;line-height:normal;font-family:Menlo,'DejaVu Sans Mono',consolas,'Courier New',monospace\"><span style=\"font-weight: bold\">{</span>\n",
       "    <span style=\"color: #008000; text-decoration-color: #008000\">'biological'</span>: <span style=\"color: #008000; text-decoration-color: #008000\">'body_event_011'</span>,\n",
       "    <span style=\"color: #008000; text-decoration-color: #008000\">'cultural'</span>: <span style=\"color: #008000; text-decoration-color: #008000\">'body_event_011,body_pattern_010'</span>,\n",
       "    <span style=\"color: #008000; text-decoration-color: #008000\">'emotional'</span>: \n",
       "<span style=\"color: #008000; text-decoration-color: #008000\">'sight_event_009,sight_event_004,sight_event_010,sight_event_008,sight_event_000,sight_event_011,sight_event_012,si</span>\n",
       "<span style=\"color: #008000; text-decoration-color: #008000\">ght_event_002'</span>\n",
       "<span style=\"font-weight: bold\">}</span>\n",
       "</pre>\n"
      ],
      "text/plain": [
       "\u001b[1m{\u001b[0m\n",
       "    \u001b[32m'biological'\u001b[0m: \u001b[32m'body_event_011'\u001b[0m,\n",
       "    \u001b[32m'cultural'\u001b[0m: \u001b[32m'body_event_011,body_pattern_010'\u001b[0m,\n",
       "    \u001b[32m'emotional'\u001b[0m: \n",
       "\u001b[32m'sight_event_009,sight_event_004,sight_event_010,sight_event_008,sight_event_000,sight_event_011,sight_event_012,si\u001b[0m\n",
       "\u001b[32mght_event_002'\u001b[0m\n",
       "\u001b[1m}\u001b[0m\n"
      ]
     },
     "metadata": {},
     "output_type": "display_data"
    },
    {
     "data": {
      "text/html": [
       "<pre style=\"white-space:pre;overflow-x:auto;line-height:normal;font-family:Menlo,'DejaVu Sans Mono',consolas,'Courier New',monospace\">\n",
       "</pre>\n"
      ],
      "text/plain": [
       "\n"
      ]
     },
     "metadata": {},
     "output_type": "display_data"
    },
    {
     "data": {
      "text/html": [
       "<pre style=\"white-space:pre;overflow-x:auto;line-height:normal;font-family:Menlo,'DejaVu Sans Mono',consolas,'Courier New',monospace\">                <span style=\"color: #808000; text-decoration-color: #808000\">Estado Agente Inteligente:              </span> Bio:+<span style=\"color: #008080; text-decoration-color: #008080; font-weight: bold\">0.75</span> Cul:+<span style=\"color: #008080; text-decoration-color: #008080; font-weight: bold\">0.5</span> Emo:+<span style=\"color: #008080; text-decoration-color: #008080; font-weight: bold\">0.0</span>\n",
       "</pre>\n"
      ],
      "text/plain": [
       "                \u001b[33mEstado Agente Inteligente:      \u001b[0m\u001b[33m        \u001b[0m Bio:+\u001b[1;36m0.75\u001b[0m Cul:+\u001b[1;36m0.5\u001b[0m Emo:+\u001b[1;36m0.0\u001b[0m\n"
      ]
     },
     "metadata": {},
     "output_type": "display_data"
    },
    {
     "data": {
      "text/html": [
       "<pre style=\"white-space:pre;overflow-x:auto;line-height:normal;font-family:Menlo,'DejaVu Sans Mono',consolas,'Courier New',monospace\">Información de los eventos sensoriales:\n",
       "<span style=\"font-weight: bold\">[</span>\n",
       "    <span style=\"font-weight: bold\">[</span>Bio:<span style=\"color: #008080; text-decoration-color: #008080; font-weight: bold\">-0.0</span> Cul:<span style=\"color: #008080; text-decoration-color: #008080; font-weight: bold\">-0.25</span> Emo:<span style=\"color: #008080; text-decoration-color: #008080; font-weight: bold\">-0.5</span>, <span style=\"color: #008000; text-decoration-color: #008000\">'sight'</span><span style=\"font-weight: bold\">]</span>,\n",
       "    <span style=\"font-weight: bold\">[</span>Bio:<span style=\"color: #008080; text-decoration-color: #008080; font-weight: bold\">-0.75</span> Cul:<span style=\"color: #008080; text-decoration-color: #008080; font-weight: bold\">-0.25</span> Emo:<span style=\"color: #008080; text-decoration-color: #008080; font-weight: bold\">-0.0</span>, <span style=\"color: #008000; text-decoration-color: #008000\">'hearing'</span><span style=\"font-weight: bold\">]</span>,\n",
       "    <span style=\"font-weight: bold\">[</span>Bio:<span style=\"color: #008080; text-decoration-color: #008080; font-weight: bold\">-0.25</span> Cul:<span style=\"color: #008080; text-decoration-color: #008080; font-weight: bold\">-0.0</span> Emo:+<span style=\"color: #008080; text-decoration-color: #008080; font-weight: bold\">0.0</span>, <span style=\"color: #008000; text-decoration-color: #008000\">'smell'</span><span style=\"font-weight: bold\">]</span>,\n",
       "    <span style=\"font-weight: bold\">[</span>Bio:<span style=\"color: #008080; text-decoration-color: #008080; font-weight: bold\">-0.25</span> Cul:+<span style=\"color: #008080; text-decoration-color: #008080; font-weight: bold\">0.5</span> Emo:<span style=\"color: #008080; text-decoration-color: #008080; font-weight: bold\">-0.25</span>, <span style=\"color: #008000; text-decoration-color: #008000\">'taste'</span><span style=\"font-weight: bold\">]</span>,\n",
       "    <span style=\"font-weight: bold\">[</span>Bio:<span style=\"color: #008080; text-decoration-color: #008080; font-weight: bold\">-0.25</span> Cul:<span style=\"color: #008080; text-decoration-color: #008080; font-weight: bold\">-0.25</span> Emo:<span style=\"color: #008080; text-decoration-color: #008080; font-weight: bold\">-0.5</span>, <span style=\"color: #008000; text-decoration-color: #008000\">'touch'</span><span style=\"font-weight: bold\">]</span>,\n",
       "    <span style=\"font-weight: bold\">[</span>Bio:<span style=\"color: #008080; text-decoration-color: #008080; font-weight: bold\">-0.25</span> Cul:<span style=\"color: #008080; text-decoration-color: #008080; font-weight: bold\">-0.0</span> Emo:<span style=\"color: #008080; text-decoration-color: #008080; font-weight: bold\">-0.25</span>, <span style=\"color: #008000; text-decoration-color: #008000\">'body'</span><span style=\"font-weight: bold\">]</span>,\n",
       "    <span style=\"font-weight: bold\">[</span>Bio:<span style=\"color: #008080; text-decoration-color: #008080; font-weight: bold\">-0.25</span> Cul:+<span style=\"color: #008080; text-decoration-color: #008080; font-weight: bold\">0.0</span> Emo:+<span style=\"color: #008080; text-decoration-color: #008080; font-weight: bold\">0.25</span>, <span style=\"color: #008000; text-decoration-color: #008000\">'time'</span><span style=\"font-weight: bold\">]</span>\n",
       "<span style=\"font-weight: bold\">]</span>\n",
       "</pre>\n"
      ],
      "text/plain": [
       "Información de los eventos sensoriales:\n",
       "\u001b[1m[\u001b[0m\n",
       "    \u001b[1m[\u001b[0mBio:\u001b[1;36m-0.0\u001b[0m Cul:\u001b[1;36m-0.25\u001b[0m Emo:\u001b[1;36m-0.5\u001b[0m, \u001b[32m'sight'\u001b[0m\u001b[1m]\u001b[0m,\n",
       "    \u001b[1m[\u001b[0mBio:\u001b[1;36m-0.75\u001b[0m Cul:\u001b[1;36m-0.25\u001b[0m Emo:\u001b[1;36m-0.0\u001b[0m, \u001b[32m'hearing'\u001b[0m\u001b[1m]\u001b[0m,\n",
       "    \u001b[1m[\u001b[0mBio:\u001b[1;36m-0.25\u001b[0m Cul:\u001b[1;36m-0.0\u001b[0m Emo:+\u001b[1;36m0.0\u001b[0m, \u001b[32m'smell'\u001b[0m\u001b[1m]\u001b[0m,\n",
       "    \u001b[1m[\u001b[0mBio:\u001b[1;36m-0.25\u001b[0m Cul:+\u001b[1;36m0.5\u001b[0m Emo:\u001b[1;36m-0.25\u001b[0m, \u001b[32m'taste'\u001b[0m\u001b[1m]\u001b[0m,\n",
       "    \u001b[1m[\u001b[0mBio:\u001b[1;36m-0.25\u001b[0m Cul:\u001b[1;36m-0.25\u001b[0m Emo:\u001b[1;36m-0.5\u001b[0m, \u001b[32m'touch'\u001b[0m\u001b[1m]\u001b[0m,\n",
       "    \u001b[1m[\u001b[0mBio:\u001b[1;36m-0.25\u001b[0m Cul:\u001b[1;36m-0.0\u001b[0m Emo:\u001b[1;36m-0.25\u001b[0m, \u001b[32m'body'\u001b[0m\u001b[1m]\u001b[0m,\n",
       "    \u001b[1m[\u001b[0mBio:\u001b[1;36m-0.25\u001b[0m Cul:+\u001b[1;36m0.0\u001b[0m Emo:+\u001b[1;36m0.25\u001b[0m, \u001b[32m'time'\u001b[0m\u001b[1m]\u001b[0m\n",
       "\u001b[1m]\u001b[0m\n"
      ]
     },
     "metadata": {},
     "output_type": "display_data"
    },
    {
     "data": {
      "text/html": [
       "<pre style=\"white-space:pre;overflow-x:auto;line-height:normal;font-family:Menlo,'DejaVu Sans Mono',consolas,'Courier New',monospace\">BCE Ganadores:\n",
       "<span style=\"font-weight: bold\">{</span>\n",
       "    <span style=\"color: #008000; text-decoration-color: #008000\">'hearing'</span>: <span style=\"font-weight: bold\">{</span><span style=\"color: #008000; text-decoration-color: #008000\">'biological'</span>: +<span style=\"color: #008080; text-decoration-color: #008080; font-weight: bold\">0.75</span>, <span style=\"color: #008000; text-decoration-color: #008000\">'cultural'</span>: +<span style=\"color: #008080; text-decoration-color: #008080; font-weight: bold\">0.5</span>, <span style=\"color: #008000; text-decoration-color: #008000\">'emotional'</span>: +<span style=\"color: #008080; text-decoration-color: #008080; font-weight: bold\">0.0</span><span style=\"font-weight: bold\">}</span>,\n",
       "    <span style=\"color: #008000; text-decoration-color: #008000\">'touch'</span>: <span style=\"font-weight: bold\">{</span><span style=\"color: #008000; text-decoration-color: #008000\">'biological'</span>: +<span style=\"color: #008080; text-decoration-color: #008080; font-weight: bold\">0.75</span>, <span style=\"color: #008000; text-decoration-color: #008000\">'cultural'</span>: +<span style=\"color: #008080; text-decoration-color: #008080; font-weight: bold\">0.5</span>, <span style=\"color: #008000; text-decoration-color: #008000\">'emotional'</span>: <span style=\"color: #008080; text-decoration-color: #008080; font-weight: bold\">-0.5</span><span style=\"font-weight: bold\">}</span>,\n",
       "    <span style=\"color: #008000; text-decoration-color: #008000\">'sight'</span>: <span style=\"font-weight: bold\">{</span><span style=\"color: #008000; text-decoration-color: #008000\">'biological'</span>: +<span style=\"color: #008080; text-decoration-color: #008080; font-weight: bold\">0.75</span>, <span style=\"color: #008000; text-decoration-color: #008000\">'cultural'</span>: +<span style=\"color: #008080; text-decoration-color: #008080; font-weight: bold\">0.5</span>, <span style=\"color: #008000; text-decoration-color: #008000\">'emotional'</span>: <span style=\"color: #008080; text-decoration-color: #008080; font-weight: bold\">-0.5</span><span style=\"font-weight: bold\">}</span>,\n",
       "    <span style=\"color: #008000; text-decoration-color: #008000\">'smell'</span>: <span style=\"font-weight: bold\">{</span><span style=\"color: #008000; text-decoration-color: #008000\">'biological'</span>: +<span style=\"color: #008080; text-decoration-color: #008080; font-weight: bold\">0.75</span>, <span style=\"color: #008000; text-decoration-color: #008000\">'cultural'</span>: +<span style=\"color: #008080; text-decoration-color: #008080; font-weight: bold\">0.5</span>, <span style=\"color: #008000; text-decoration-color: #008000\">'emotional'</span>: +<span style=\"color: #008080; text-decoration-color: #008080; font-weight: bold\">0.0</span><span style=\"font-weight: bold\">}</span>,\n",
       "    <span style=\"color: #008000; text-decoration-color: #008000\">'taste'</span>: <span style=\"font-weight: bold\">{</span><span style=\"color: #008000; text-decoration-color: #008000\">'biological'</span>: +<span style=\"color: #008080; text-decoration-color: #008080; font-weight: bold\">0.75</span>, <span style=\"color: #008000; text-decoration-color: #008000\">'cultural'</span>: +<span style=\"color: #008080; text-decoration-color: #008080; font-weight: bold\">0.5</span>, <span style=\"color: #008000; text-decoration-color: #008000\">'emotional'</span>: <span style=\"color: #008080; text-decoration-color: #008080; font-weight: bold\">-0.25</span><span style=\"font-weight: bold\">}</span>,\n",
       "    <span style=\"color: #008000; text-decoration-color: #008000\">'body'</span>: <span style=\"font-weight: bold\">{</span><span style=\"color: #008000; text-decoration-color: #008000\">'biological'</span>: +<span style=\"color: #008080; text-decoration-color: #008080; font-weight: bold\">0.75</span>, <span style=\"color: #008000; text-decoration-color: #008000\">'cultural'</span>: +<span style=\"color: #008080; text-decoration-color: #008080; font-weight: bold\">0.5</span>, <span style=\"color: #008000; text-decoration-color: #008000\">'emotional'</span>: <span style=\"color: #008080; text-decoration-color: #008080; font-weight: bold\">-0.25</span><span style=\"font-weight: bold\">}</span>,\n",
       "    <span style=\"color: #008000; text-decoration-color: #008000\">'time'</span>: <span style=\"font-weight: bold\">{</span><span style=\"color: #008000; text-decoration-color: #008000\">'biological'</span>: +<span style=\"color: #008080; text-decoration-color: #008080; font-weight: bold\">0.75</span>, <span style=\"color: #008000; text-decoration-color: #008000\">'cultural'</span>: +<span style=\"color: #008080; text-decoration-color: #008080; font-weight: bold\">0.5</span>, <span style=\"color: #008000; text-decoration-color: #008000\">'emotional'</span>: +<span style=\"color: #008080; text-decoration-color: #008080; font-weight: bold\">0.25</span><span style=\"font-weight: bold\">}</span>\n",
       "<span style=\"font-weight: bold\">}</span>\n",
       "<span style=\"font-weight: bold\">{</span>\n",
       "    <span style=\"color: #008000; text-decoration-color: #008000\">'hearing'</span>: <span style=\"font-weight: bold\">{</span><span style=\"color: #008000; text-decoration-color: #008000\">'biological'</span>: <span style=\"color: #008000; text-decoration-color: #008000\">'AI'</span>, <span style=\"color: #008000; text-decoration-color: #008000\">'cultural'</span>: <span style=\"color: #008000; text-decoration-color: #008000\">'AI'</span>, <span style=\"color: #008000; text-decoration-color: #008000\">'emotional'</span>: <span style=\"color: #008000; text-decoration-color: #008000\">'AI'</span><span style=\"font-weight: bold\">}</span>,\n",
       "    <span style=\"color: #008000; text-decoration-color: #008000\">'touch'</span>: <span style=\"font-weight: bold\">{</span><span style=\"color: #008000; text-decoration-color: #008000\">'biological'</span>: <span style=\"color: #008000; text-decoration-color: #008000\">'AI'</span>, <span style=\"color: #008000; text-decoration-color: #008000\">'cultural'</span>: <span style=\"color: #008000; text-decoration-color: #008000\">'AI'</span>, <span style=\"color: #008000; text-decoration-color: #008000\">'emotional'</span>: <span style=\"color: #008000; text-decoration-color: #008000\">'RN'</span><span style=\"font-weight: bold\">}</span>,\n",
       "    <span style=\"color: #008000; text-decoration-color: #008000\">'sight'</span>: <span style=\"font-weight: bold\">{</span><span style=\"color: #008000; text-decoration-color: #008000\">'biological'</span>: <span style=\"color: #008000; text-decoration-color: #008000\">'AI'</span>, <span style=\"color: #008000; text-decoration-color: #008000\">'cultural'</span>: <span style=\"color: #008000; text-decoration-color: #008000\">'AI'</span>, <span style=\"color: #008000; text-decoration-color: #008000\">'emotional'</span>: <span style=\"color: #008000; text-decoration-color: #008000\">'RN'</span><span style=\"font-weight: bold\">}</span>,\n",
       "    <span style=\"color: #008000; text-decoration-color: #008000\">'smell'</span>: <span style=\"font-weight: bold\">{</span><span style=\"color: #008000; text-decoration-color: #008000\">'biological'</span>: <span style=\"color: #008000; text-decoration-color: #008000\">'AI'</span>, <span style=\"color: #008000; text-decoration-color: #008000\">'cultural'</span>: <span style=\"color: #008000; text-decoration-color: #008000\">'AI'</span>, <span style=\"color: #008000; text-decoration-color: #008000\">'emotional'</span>: <span style=\"color: #008000; text-decoration-color: #008000\">'AI'</span><span style=\"font-weight: bold\">}</span>,\n",
       "    <span style=\"color: #008000; text-decoration-color: #008000\">'taste'</span>: <span style=\"font-weight: bold\">{</span><span style=\"color: #008000; text-decoration-color: #008000\">'biological'</span>: <span style=\"color: #008000; text-decoration-color: #008000\">'AI'</span>, <span style=\"color: #008000; text-decoration-color: #008000\">'cultural'</span>: <span style=\"color: #008000; text-decoration-color: #008000\">'AI'</span>, <span style=\"color: #008000; text-decoration-color: #008000\">'emotional'</span>: <span style=\"color: #008000; text-decoration-color: #008000\">'RN'</span><span style=\"font-weight: bold\">}</span>,\n",
       "    <span style=\"color: #008000; text-decoration-color: #008000\">'body'</span>: <span style=\"font-weight: bold\">{</span><span style=\"color: #008000; text-decoration-color: #008000\">'biological'</span>: <span style=\"color: #008000; text-decoration-color: #008000\">'AI'</span>, <span style=\"color: #008000; text-decoration-color: #008000\">'cultural'</span>: <span style=\"color: #008000; text-decoration-color: #008000\">'AI'</span>, <span style=\"color: #008000; text-decoration-color: #008000\">'emotional'</span>: <span style=\"color: #008000; text-decoration-color: #008000\">'RN'</span><span style=\"font-weight: bold\">}</span>,\n",
       "    <span style=\"color: #008000; text-decoration-color: #008000\">'time'</span>: <span style=\"font-weight: bold\">{</span><span style=\"color: #008000; text-decoration-color: #008000\">'biological'</span>: <span style=\"color: #008000; text-decoration-color: #008000\">'AI'</span>, <span style=\"color: #008000; text-decoration-color: #008000\">'cultural'</span>: <span style=\"color: #008000; text-decoration-color: #008000\">'AI'</span>, <span style=\"color: #008000; text-decoration-color: #008000\">'emotional'</span>: <span style=\"color: #008000; text-decoration-color: #008000\">'RN'</span><span style=\"font-weight: bold\">}</span>\n",
       "<span style=\"font-weight: bold\">}</span>\n",
       "</pre>\n"
      ],
      "text/plain": [
       "BCE Ganadores:\n",
       "\u001b[1m{\u001b[0m\n",
       "    \u001b[32m'hearing'\u001b[0m: \u001b[1m{\u001b[0m\u001b[32m'biological'\u001b[0m: +\u001b[1;36m0.75\u001b[0m, \u001b[32m'cultural'\u001b[0m: +\u001b[1;36m0.5\u001b[0m, \u001b[32m'emotional'\u001b[0m: +\u001b[1;36m0.0\u001b[0m\u001b[1m}\u001b[0m,\n",
       "    \u001b[32m'touch'\u001b[0m: \u001b[1m{\u001b[0m\u001b[32m'biological'\u001b[0m: +\u001b[1;36m0.75\u001b[0m, \u001b[32m'cultural'\u001b[0m: +\u001b[1;36m0.5\u001b[0m, \u001b[32m'emotional'\u001b[0m: \u001b[1;36m-0.5\u001b[0m\u001b[1m}\u001b[0m,\n",
       "    \u001b[32m'sight'\u001b[0m: \u001b[1m{\u001b[0m\u001b[32m'biological'\u001b[0m: +\u001b[1;36m0.75\u001b[0m, \u001b[32m'cultural'\u001b[0m: +\u001b[1;36m0.5\u001b[0m, \u001b[32m'emotional'\u001b[0m: \u001b[1;36m-0.5\u001b[0m\u001b[1m}\u001b[0m,\n",
       "    \u001b[32m'smell'\u001b[0m: \u001b[1m{\u001b[0m\u001b[32m'biological'\u001b[0m: +\u001b[1;36m0.75\u001b[0m, \u001b[32m'cultural'\u001b[0m: +\u001b[1;36m0.5\u001b[0m, \u001b[32m'emotional'\u001b[0m: +\u001b[1;36m0.0\u001b[0m\u001b[1m}\u001b[0m,\n",
       "    \u001b[32m'taste'\u001b[0m: \u001b[1m{\u001b[0m\u001b[32m'biological'\u001b[0m: +\u001b[1;36m0.75\u001b[0m, \u001b[32m'cultural'\u001b[0m: +\u001b[1;36m0.5\u001b[0m, \u001b[32m'emotional'\u001b[0m: \u001b[1;36m-0.25\u001b[0m\u001b[1m}\u001b[0m,\n",
       "    \u001b[32m'body'\u001b[0m: \u001b[1m{\u001b[0m\u001b[32m'biological'\u001b[0m: +\u001b[1;36m0.75\u001b[0m, \u001b[32m'cultural'\u001b[0m: +\u001b[1;36m0.5\u001b[0m, \u001b[32m'emotional'\u001b[0m: \u001b[1;36m-0.25\u001b[0m\u001b[1m}\u001b[0m,\n",
       "    \u001b[32m'time'\u001b[0m: \u001b[1m{\u001b[0m\u001b[32m'biological'\u001b[0m: +\u001b[1;36m0.75\u001b[0m, \u001b[32m'cultural'\u001b[0m: +\u001b[1;36m0.5\u001b[0m, \u001b[32m'emotional'\u001b[0m: +\u001b[1;36m0.25\u001b[0m\u001b[1m}\u001b[0m\n",
       "\u001b[1m}\u001b[0m\n",
       "\u001b[1m{\u001b[0m\n",
       "    \u001b[32m'hearing'\u001b[0m: \u001b[1m{\u001b[0m\u001b[32m'biological'\u001b[0m: \u001b[32m'AI'\u001b[0m, \u001b[32m'cultural'\u001b[0m: \u001b[32m'AI'\u001b[0m, \u001b[32m'emotional'\u001b[0m: \u001b[32m'AI'\u001b[0m\u001b[1m}\u001b[0m,\n",
       "    \u001b[32m'touch'\u001b[0m: \u001b[1m{\u001b[0m\u001b[32m'biological'\u001b[0m: \u001b[32m'AI'\u001b[0m, \u001b[32m'cultural'\u001b[0m: \u001b[32m'AI'\u001b[0m, \u001b[32m'emotional'\u001b[0m: \u001b[32m'RN'\u001b[0m\u001b[1m}\u001b[0m,\n",
       "    \u001b[32m'sight'\u001b[0m: \u001b[1m{\u001b[0m\u001b[32m'biological'\u001b[0m: \u001b[32m'AI'\u001b[0m, \u001b[32m'cultural'\u001b[0m: \u001b[32m'AI'\u001b[0m, \u001b[32m'emotional'\u001b[0m: \u001b[32m'RN'\u001b[0m\u001b[1m}\u001b[0m,\n",
       "    \u001b[32m'smell'\u001b[0m: \u001b[1m{\u001b[0m\u001b[32m'biological'\u001b[0m: \u001b[32m'AI'\u001b[0m, \u001b[32m'cultural'\u001b[0m: \u001b[32m'AI'\u001b[0m, \u001b[32m'emotional'\u001b[0m: \u001b[32m'AI'\u001b[0m\u001b[1m}\u001b[0m,\n",
       "    \u001b[32m'taste'\u001b[0m: \u001b[1m{\u001b[0m\u001b[32m'biological'\u001b[0m: \u001b[32m'AI'\u001b[0m, \u001b[32m'cultural'\u001b[0m: \u001b[32m'AI'\u001b[0m, \u001b[32m'emotional'\u001b[0m: \u001b[32m'RN'\u001b[0m\u001b[1m}\u001b[0m,\n",
       "    \u001b[32m'body'\u001b[0m: \u001b[1m{\u001b[0m\u001b[32m'biological'\u001b[0m: \u001b[32m'AI'\u001b[0m, \u001b[32m'cultural'\u001b[0m: \u001b[32m'AI'\u001b[0m, \u001b[32m'emotional'\u001b[0m: \u001b[32m'RN'\u001b[0m\u001b[1m}\u001b[0m,\n",
       "    \u001b[32m'time'\u001b[0m: \u001b[1m{\u001b[0m\u001b[32m'biological'\u001b[0m: \u001b[32m'AI'\u001b[0m, \u001b[32m'cultural'\u001b[0m: \u001b[32m'AI'\u001b[0m, \u001b[32m'emotional'\u001b[0m: \u001b[32m'RN'\u001b[0m\u001b[1m}\u001b[0m\n",
       "\u001b[1m}\u001b[0m\n"
      ]
     },
     "metadata": {},
     "output_type": "display_data"
    },
    {
     "name": "stdout",
     "output_type": "stream",
     "text": [
      "2023-08-31 19:56:17 [info     ] Updating attention\n",
      "2023-08-31 19:56:17 [info     ] Current Phis\n"
     ]
    },
    {
     "data": {
      "text/html": [
       "<pre style=\"white-space:pre;overflow-x:auto;line-height:normal;font-family:Menlo,'DejaVu Sans Mono',consolas,'Courier New',monospace\"><span style=\"font-weight: bold\">{</span>\n",
       "    <span style=\"color: #008000; text-decoration-color: #008000\">'biological'</span>: <span style=\"color: #008000; text-decoration-color: #008000\">'time_event_014,time_event_011,time_event_009,time_event_010,time_pattern_003'</span>,\n",
       "    <span style=\"color: #008000; text-decoration-color: #008000\">'cultural'</span>: <span style=\"color: #008000; text-decoration-color: #008000\">'time_event_014,time_event_011,time_event_009,time_event_010'</span>,\n",
       "    <span style=\"color: #008000; text-decoration-color: #008000\">'emotional'</span>: <span style=\"color: #008000; text-decoration-color: #008000\">'time_event_014,time_event_011,time_event_009,time_event_010'</span>\n",
       "<span style=\"font-weight: bold\">}</span>\n",
       "</pre>\n"
      ],
      "text/plain": [
       "\u001b[1m{\u001b[0m\n",
       "    \u001b[32m'biological'\u001b[0m: \u001b[32m'time_event_014,time_event_011,time_event_009,time_event_010,time_pattern_003'\u001b[0m,\n",
       "    \u001b[32m'cultural'\u001b[0m: \u001b[32m'time_event_014,time_event_011,time_event_009,time_event_010'\u001b[0m,\n",
       "    \u001b[32m'emotional'\u001b[0m: \u001b[32m'time_event_014,time_event_011,time_event_009,time_event_010'\u001b[0m\n",
       "\u001b[1m}\u001b[0m\n"
      ]
     },
     "metadata": {},
     "output_type": "display_data"
    },
    {
     "data": {
      "text/html": [
       "<pre style=\"white-space:pre;overflow-x:auto;line-height:normal;font-family:Menlo,'DejaVu Sans Mono',consolas,'Courier New',monospace\"><span style=\"color: #008000; text-decoration-color: #008000\">BCE de entrada al Agente Inteligente:                   </span> Bio:+<span style=\"color: #008080; text-decoration-color: #008080; font-weight: bold\">0.75</span> Cul:+<span style=\"color: #008080; text-decoration-color: #008080; font-weight: bold\">0.5</span> Emo:<span style=\"color: #008080; text-decoration-color: #008080; font-weight: bold\">-0.25</span>\n",
       "</pre>\n"
      ],
      "text/plain": [
       "\u001b[32mBCE de entrada al Agente Inteligente:   \u001b[0m\u001b[32m        \u001b[0m\u001b[32m        \u001b[0m Bio:+\u001b[1;36m0.75\u001b[0m Cul:+\u001b[1;36m0.5\u001b[0m Emo:\u001b[1;36m-0.25\u001b[0m\n"
      ]
     },
     "metadata": {},
     "output_type": "display_data"
    },
    {
     "data": {
      "text/html": [
       "<pre style=\"white-space:pre;overflow-x:auto;line-height:normal;font-family:Menlo,'DejaVu Sans Mono',consolas,'Courier New',monospace\">                <span style=\"color: #808000; text-decoration-color: #808000\">Estado Agente Inteligente:              </span> Bio:+<span style=\"color: #008080; text-decoration-color: #008080; font-weight: bold\">1.0</span> Cul:+<span style=\"color: #008080; text-decoration-color: #008080; font-weight: bold\">1.0</span> Emo:+<span style=\"color: #008080; text-decoration-color: #008080; font-weight: bold\">0.0</span>\n",
       "</pre>\n"
      ],
      "text/plain": [
       "                \u001b[33mEstado Agente Inteligente:      \u001b[0m\u001b[33m        \u001b[0m Bio:+\u001b[1;36m1.0\u001b[0m Cul:+\u001b[1;36m1.0\u001b[0m Emo:+\u001b[1;36m0.0\u001b[0m\n"
      ]
     },
     "metadata": {},
     "output_type": "display_data"
    },
    {
     "data": {
      "text/html": [
       "<pre style=\"white-space:pre;overflow-x:auto;line-height:normal;font-family:Menlo,'DejaVu Sans Mono',consolas,'Courier New',monospace\"><span style=\"color: #800000; text-decoration-color: #800000\">DEAD</span>\n",
       "</pre>\n"
      ],
      "text/plain": [
       "\u001b[31mDEAD\u001b[0m\n"
      ]
     },
     "metadata": {},
     "output_type": "display_data"
    }
   ],
   "source": [
    "# Instancia de la clases\n",
    "mind = Mind()\n",
    "\n",
    "# Bucle de eventos\n",
    "break_loop = False\n",
    "\n",
    "while True:\n",
    "\n",
    "    # Generación de evento aleatorio para los siete sentidos\n",
    "    sensory_events = event_generator.gen_event()\n",
    "    print()\n",
    "\n",
    "    agent_bce = intelligent_agent.status()\n",
    "    print(\"\\t\\t[yellow]Estado Agente Inteligente:\\t\\t\", agent_bce)\n",
    "\n",
    "    # print(\"Eventos sensoriales de entrada:\",sensory_events)\n",
    "\n",
    "    # entrada de eventos a la red neuronal de michael\n",
    "    sensory_events_bce, sensory_events_ids  = sensory_system.set_event(sensory_events)\n",
    "\n",
    "    print(\"Información de los eventos sensoriales:\", sensory_events_bce)\n",
    "\n",
    "    # entrada de eventos a memoria\n",
    "    memory.get_events(sensory_events_ids)\n",
    "\n",
    "    # entrada de bce de la rn por sentido del comparador 1 de maria para actualizar los bce de las neuronas\n",
    "    rn_bce_by_senses = bce_agent_to_mind_translator(bce_senses=sensory_events_bce)\n",
    "\n",
    "    # entrada de memoria del comparador 1 de maria\n",
    "    memory_stats = memory.get_stats()\n",
    "\n",
    "    bce_winners, bce_modified, winners = mind.call_internal_comparator(\n",
    "        agent_bce=agent_bce,\n",
    "        bce_senses=rn_bce_by_senses,\n",
    "        memory_stats=memory_stats\n",
    "    )\n",
    "\n",
    "    arr_bce_winners = sensory_system.get_bce_from_mind(bce_winners)\n",
    "\n",
    "    print(\"BCE Ganadores:\", bce_winners, winners)\n",
    "\n",
    "    # update de la red neuronal\n",
    "    sensory_system.update_neuron(arr_bce_winners)\n",
    "\n",
    "    memories = memory.get_memory_sequences(params=bce_modified)\n",
    "\n",
    "    life_episodes = memory.get_life_episodes()\n",
    "    temporal_memory = get_temporal_memory(life_episodes)\n",
    "    new_thoughts_by_factor = mind.update_attention(memories=memories, temporal_memory=temporal_memory)\n",
    "\n",
    "    for factor in new_thoughts_by_factor:\n",
    "        for memory_sequence in new_thoughts_by_factor[factor]:\n",
    "            memory.handle_attention(factor, memory_sequence=memory_sequence)\n",
    "\n",
    "    new_bce = mind.get_unified_bce()\n",
    "\n",
    "    print(\"[green]BCE de entrada al Agente Inteligente:\\t\\t\\t\", new_bce)\n",
    "\n",
    "    print(\"\\t\\t[yellow]Estado Agente Inteligente:\\t\\t\", intelligent_agent.add_bce(new_bce))\n",
    "\n",
    "    for factor in intelligent_agent.status().state():\n",
    "        if factor[1] == intelligent_agent.length:\n",
    "            print(\"[red]DEAD\")\n",
    "            break_loop = True\n",
    "            break\n",
    "    if break_loop:\n",
    "        break\n",
    "\n",
    "    time.sleep(5)\n",
    "mind.conscious.stop()\n"
   ]
  },
  {
   "cell_type": "code",
   "execution_count": 6,
   "metadata": {},
   "outputs": [
    {
     "data": {
      "text/html": [
       "<pre style=\"white-space:pre;overflow-x:auto;line-height:normal;font-family:Menlo,'DejaVu Sans Mono',consolas,'Courier New',monospace\"><span style=\"color: #008080; text-decoration-color: #008080; font-weight: bold\">10</span>\n",
       "</pre>\n"
      ],
      "text/plain": [
       "\u001b[1;36m10\u001b[0m\n"
      ]
     },
     "metadata": {},
     "output_type": "display_data"
    },
    {
     "data": {
      "text/html": [
       "<pre style=\"white-space:pre;overflow-x:auto;line-height:normal;font-family:Menlo,'DejaVu Sans Mono',consolas,'Courier New',monospace\"><span style=\"font-weight: bold\">[</span><span style=\"color: #008080; text-decoration-color: #008080; font-weight: bold\">40</span>, <span style=\"color: #008080; text-decoration-color: #008080; font-weight: bold\">37</span>, <span style=\"color: #008080; text-decoration-color: #008080; font-weight: bold\">34</span>, <span style=\"color: #008080; text-decoration-color: #008080; font-weight: bold\">31</span><span style=\"font-weight: bold\">]</span>\n",
       "</pre>\n"
      ],
      "text/plain": [
       "\u001b[1m[\u001b[0m\u001b[1;36m40\u001b[0m, \u001b[1;36m37\u001b[0m, \u001b[1;36m34\u001b[0m, \u001b[1;36m31\u001b[0m\u001b[1m]\u001b[0m\n"
      ]
     },
     "metadata": {},
     "output_type": "display_data"
    },
    {
     "data": {
      "text/html": [
       "<pre style=\"white-space:pre;overflow-x:auto;line-height:normal;font-family:Menlo,'DejaVu Sans Mono',consolas,'Courier New',monospace\"><span style=\"color: #008080; text-decoration-color: #008080; font-weight: bold\">0</span>\n",
       "</pre>\n"
      ],
      "text/plain": [
       "\u001b[1;36m0\u001b[0m\n"
      ]
     },
     "metadata": {},
     "output_type": "display_data"
    }
   ],
   "source": [
    "import random\n",
    "n=4\n",
    "\n",
    "numbers = list(range(n))\n",
    "total_weight = sum(range(1, n+1))\n",
    "weights = [n*10-i*3 for i in range(n)]\n",
    "degree = random.choices(numbers, weights=weights, k=1)[0]\n",
    "print(total_weight)\n",
    "print(weights)\n",
    "print(degree)\n"
   ]
  }
 ],
 "metadata": {
  "kernelspec": {
   "display_name": "Agente_01",
   "language": "python",
   "name": "python3"
  },
  "language_info": {
   "codemirror_mode": {
    "name": "ipython",
    "version": 3
   },
   "file_extension": ".py",
   "mimetype": "text/x-python",
   "name": "python",
   "nbconvert_exporter": "python",
   "pygments_lexer": "ipython3",
   "version": "3.9.16"
  },
  "orig_nbformat": 4
 },
 "nbformat": 4,
 "nbformat_minor": 2
}
